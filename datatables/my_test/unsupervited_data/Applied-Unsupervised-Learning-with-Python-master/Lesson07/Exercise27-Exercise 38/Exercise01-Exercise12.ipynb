{
 "cells": [
  {
   "cell_type": "code",
   "execution_count": 1,
   "metadata": {},
   "outputs": [],
   "source": [
    "#EXERCISE 1\n",
    "import langdetect\n",
    "import matplotlib.pyplot\n",
    "import nltk\n",
    "import numpy\n",
    "import pandas\n",
    "import pyLDAvis\n",
    "import pyLDAvis.sklearn\n",
    "import regex\n",
    "import sklearn"
   ]
  },
  {
   "cell_type": "code",
   "execution_count": 2,
   "metadata": {},
   "outputs": [
    {
     "name": "stderr",
     "output_type": "stream",
     "text": [
      "[nltk_data] Downloading package wordnet to\n",
      "[nltk_data]     C:\\Users\\rutujay\\AppData\\Roaming\\nltk_data...\n",
      "[nltk_data]   Package wordnet is already up-to-date!\n",
      "[nltk_data] Downloading package stopwords to\n",
      "[nltk_data]     C:\\Users\\rutujay\\AppData\\Roaming\\nltk_data...\n",
      "[nltk_data]   Package stopwords is already up-to-date!\n"
     ]
    },
    {
     "data": {
      "text/plain": [
       "True"
      ]
     },
     "execution_count": 2,
     "metadata": {},
     "output_type": "execute_result"
    }
   ],
   "source": [
    "nltk.download('wordnet')\n",
    "nltk.download('stopwords')"
   ]
  },
  {
   "cell_type": "code",
   "execution_count": 3,
   "metadata": {},
   "outputs": [],
   "source": [
    "%matplotlib inline"
   ]
  },
  {
   "cell_type": "code",
   "execution_count": 4,
   "metadata": {},
   "outputs": [],
   "source": [
    "#EXERCISE 2\n",
    "path = \"News_Final.csv\"\n",
    "df = pandas.read_csv(path, header=0)"
   ]
  },
  {
   "cell_type": "code",
   "execution_count": 5,
   "metadata": {},
   "outputs": [
    {
     "name": "stdout",
     "output_type": "stream",
     "text": [
      "SHAPE:\n",
      "(93239, 11)\n",
      "\n",
      "COLUMN NAMES:\n",
      "Index(['IDLink', 'Title', 'Headline', 'Source', 'Topic', 'PublishDate',\n",
      "       'SentimentTitle', 'SentimentHeadline', 'Facebook', 'GooglePlus',\n",
      "       'LinkedIn'],\n",
      "      dtype='object')\n",
      "\n",
      "HEAD:\n",
      "    IDLink                                             Title  \\\n",
      "0  99248.0  Obama Lays Wreath at Arlington National Cemetery   \n",
      "1  10423.0       A Look at the Health of the Chinese Economy   \n",
      "\n",
      "                                            Headline     Source    Topic  \\\n",
      "0  Obama Lays Wreath at Arlington National Cemete...  USA TODAY    obama   \n",
      "1  Tim Haywood, investment director business-unit...  Bloomberg  economy   \n",
      "\n",
      "           PublishDate  SentimentTitle  SentimentHeadline  Facebook  \\\n",
      "0  2002-04-02 00:00:00        0.000000          -0.053300        -1   \n",
      "1  2008-09-20 00:00:00        0.208333          -0.156386        -1   \n",
      "\n",
      "   GooglePlus  LinkedIn  \n",
      "0          -1        -1  \n",
      "1          -1        -1  \n",
      "\n"
     ]
    }
   ],
   "source": [
    "def dataframe_quick_look(df, nrows):\n",
    "    print(\"SHAPE:\\n{shape}\\n\".format(shape=df.shape))\n",
    "    print(\"COLUMN NAMES:\\n{names}\\n\".format(names=df.columns))\n",
    "    print(\"HEAD:\\n{head}\\n\".format(head=df.head(nrows)))\n",
    "\n",
    "dataframe_quick_look(df, nrows=2)"
   ]
  },
  {
   "cell_type": "code",
   "execution_count": 6,
   "metadata": {},
   "outputs": [
    {
     "name": "stdout",
     "output_type": "stream",
     "text": [
      "TOPICS:\n",
      "economy      33928\n",
      "obama        28610\n",
      "microsoft    21858\n",
      "palestine     8843\n",
      "Name: Topic, dtype: int64\n",
      "\n"
     ]
    }
   ],
   "source": [
    "print(\"TOPICS:\\n{topics}\\n\".format(topics=df[\"Topic\"].value_counts()))"
   ]
  },
  {
   "cell_type": "code",
   "execution_count": 7,
   "metadata": {},
   "outputs": [
    {
     "name": "stdout",
     "output_type": "stream",
     "text": [
      "HEADLINES:\n",
      "['Obama Lays Wreath at Arlington National Cemetery. President Barack Obama has laid a wreath at the Tomb of the Unknowns to honor', 'Tim Haywood, investment director business-unit head for fixed income at Gam, discusses the China beige book and the state of the economy.', \"Nouriel Roubini, NYU professor and chairman at Roubini Global Economics, explains why the global economy isn't facing the same conditions\", \"Finland's economy expanded marginally in the three months ended December, after contracting in the previous quarter, preliminary figures from Statistics Finland showed Monday. \", 'Tourism and public spending continued to boost the economy in January, in light of contraction in private consumption and exports, according to the Bank of Thailand data. ']\n",
      "\n",
      "LENGTH:\n",
      "93239\n",
      "\n"
     ]
    }
   ],
   "source": [
    "raw = df[\"Headline\"].tolist()\n",
    "print(\"HEADLINES:\\n{lines}\\n\".format(lines=raw[:5]))\n",
    "print(\"LENGTH:\\n{length}\\n\".format(length=len(raw)))"
   ]
  },
  {
   "cell_type": "code",
   "execution_count": 8,
   "metadata": {},
   "outputs": [
    {
     "name": "stdout",
     "output_type": "stream",
     "text": [
      "Over 100 attendees expected to see latest version of Microsoft Dynamics SL and Dynamics GP (PRWeb February 29, 2016) Read the full story at http://www.prweb.com/releases/2016/03/prweb13238571.htm \n"
     ]
    }
   ],
   "source": [
    "#EXERCISE 3\n",
    "example = raw[5]\n",
    "print(example)"
   ]
  },
  {
   "cell_type": "code",
   "execution_count": 9,
   "metadata": {},
   "outputs": [
    {
     "name": "stdout",
     "output_type": "stream",
     "text": [
      "DETECTED LANGUAGE:\n",
      "en\n",
      "\n"
     ]
    }
   ],
   "source": [
    "def do_language_identifying(txt):\n",
    "    try: the_language = langdetect.detect(txt)\n",
    "    except: the_language = 'none'\n",
    "    return the_language\n",
    "\n",
    "print(\"DETECTED LANGUAGE:\\n{lang}\\n\".format(\n",
    "lang=do_language_identifying(example)\n",
    "))\n"
   ]
  },
  {
   "cell_type": "code",
   "execution_count": 10,
   "metadata": {},
   "outputs": [
    {
     "name": "stdout",
     "output_type": "stream",
     "text": [
      "['Over', '100', 'attendees', 'expected', 'to', 'see', 'latest', 'version', 'of', 'Microsoft', 'Dynamics', 'SL', 'and', 'Dynamics', 'GP', '(PRWeb', 'February', '29,', '2016)', 'Read', 'the', 'full', 'story', 'at', 'http://www.prweb.com/releases/2016/03/prweb13238571.htm', '']\n"
     ]
    }
   ],
   "source": [
    "example = example.split(\" \")\n",
    "print(example)"
   ]
  },
  {
   "cell_type": "code",
   "execution_count": 11,
   "metadata": {},
   "outputs": [
    {
     "name": "stdout",
     "output_type": "stream",
     "text": [
      "['Over', '100', 'attendees', 'expected', 'to', 'see', 'latest', 'version', 'of', 'Microsoft', 'Dynamics', 'SL', 'and', 'Dynamics', 'GP', '(PRWeb', 'February', '29,', '2016)', 'Read', 'the', 'full', 'story', 'at', 'URL', '']\n"
     ]
    }
   ],
   "source": [
    "example = ['URL' if bool(regex.search(\"http[s]?://\", i))else i for i in example]\n",
    "print(example)\n"
   ]
  },
  {
   "cell_type": "code",
   "execution_count": 12,
   "metadata": {},
   "outputs": [
    {
     "name": "stdout",
     "output_type": "stream",
     "text": [
      "['Over', '100', 'attendees', 'expected', 'to', 'see', 'latest', 'version', 'of', 'Microsoft', 'Dynamics', 'SL', 'and', 'Dynamics', 'GP', 'PRWeb', 'February', '29', '2016', 'Read', 'the', 'full', 'story', 'at', 'URL', '']\n"
     ]
    }
   ],
   "source": [
    "example = [regex.sub(\"[^\\\\w\\\\s]|\\n\", \"\", i) for i in example]\n",
    "print(example)"
   ]
  },
  {
   "cell_type": "code",
   "execution_count": 13,
   "metadata": {},
   "outputs": [
    {
     "name": "stdout",
     "output_type": "stream",
     "text": [
      "['Over', '', 'attendees', 'expected', 'to', 'see', 'latest', 'version', 'of', 'Microsoft', 'Dynamics', 'SL', 'and', 'Dynamics', 'GP', 'PRWeb', 'February', '', '', 'Read', 'the', 'full', 'story', 'at', 'URL', '']\n"
     ]
    }
   ],
   "source": [
    "example = [regex.sub(\"^[0-9]*$\", \"\", i) for i in example]\n",
    "print(example)"
   ]
  },
  {
   "cell_type": "code",
   "execution_count": 14,
   "metadata": {},
   "outputs": [
    {
     "name": "stdout",
     "output_type": "stream",
     "text": [
      "['over', '', 'attendees', 'expected', 'to', 'see', 'latest', 'version', 'of', 'microsoft', 'dynamics', 'sl', 'and', 'dynamics', 'gp', 'prweb', 'february', '', '', 'read', 'the', 'full', 'story', 'at', 'URL', '']\n"
     ]
    }
   ],
   "source": [
    "example = [i.lower() if i not in \"URL\" else i for i in example]\n",
    "print(example)"
   ]
  },
  {
   "cell_type": "code",
   "execution_count": 15,
   "metadata": {},
   "outputs": [
    {
     "name": "stdout",
     "output_type": "stream",
     "text": [
      "['over', 'attendees', 'expected', 'to', 'see', 'latest', 'version', 'of', 'microsoft', 'dynamics', 'sl', 'and', 'dynamics', 'gp', 'prweb', 'february', 'read', 'the', 'full', 'story', 'at']\n"
     ]
    }
   ],
   "source": [
    "example = [i for i in example if i not in \"URL\"]\n",
    "print(example)"
   ]
  },
  {
   "cell_type": "code",
   "execution_count": 16,
   "metadata": {},
   "outputs": [
    {
     "name": "stdout",
     "output_type": "stream",
     "text": [
      "['i', 'me', 'my', 'myself', 'we', 'our', 'ours', 'ourselves', 'you', 'youre', 'youve', 'youll', 'youd', 'your', 'yours', 'yourself', 'yourselves', 'he', 'him', 'his', 'himself', 'she', 'shes', 'her', 'hers', 'herself', 'it', 'its', 'its', 'itself', 'they', 'them', 'their', 'theirs', 'themselves', 'what', 'which', 'who', 'whom', 'this', 'that', 'thatll', 'these', 'those', 'am', 'is', 'are', 'was', 'were', 'be', 'been', 'being', 'have', 'has', 'had', 'having', 'do', 'does', 'did', 'doing', 'a', 'an', 'the', 'and', 'but', 'if', 'or', 'because', 'as', 'until', 'while', 'of', 'at', 'by', 'for', 'with', 'about', 'against', 'between', 'into', 'through', 'during', 'before', 'after', 'above', 'below', 'to', 'from', 'up', 'down', 'in', 'out', 'on', 'off', 'over', 'under', 'again', 'further', 'then', 'once', 'here', 'there', 'when', 'where', 'why', 'how', 'all', 'any', 'both', 'each', 'few', 'more', 'most', 'other', 'some', 'such', 'no', 'nor', 'not', 'only', 'own', 'same', 'so', 'than', 'too', 'very', 's', 't', 'can', 'will', 'just', 'don', 'dont', 'should', 'shouldve', 'now', 'd', 'll', 'm', 'o', 're', 've', 'y', 'ain', 'aren', 'arent', 'couldn', 'couldnt', 'didn', 'didnt', 'doesn', 'doesnt', 'hadn', 'hadnt', 'hasn', 'hasnt', 'haven', 'havent', 'isn', 'isnt', 'ma', 'mightn', 'mightnt', 'mustn', 'mustnt', 'needn', 'neednt', 'shan', 'shant', 'shouldn', 'shouldnt', 'wasn', 'wasnt', 'weren', 'werent', 'won', 'wont', 'wouldn', 'wouldnt']\n"
     ]
    }
   ],
   "source": [
    "list_stop_words = nltk.corpus.stopwords.words(\"English\")\n",
    "list_stop_words = [regex.sub(\"[^\\\\w\\\\s]\", \"\", i) for i in list_stop_words]\n",
    "print(list_stop_words)"
   ]
  },
  {
   "cell_type": "code",
   "execution_count": 17,
   "metadata": {},
   "outputs": [
    {
     "name": "stdout",
     "output_type": "stream",
     "text": [
      "['attendees', 'expected', 'see', 'latest', 'version', 'microsoft', 'dynamics', 'sl', 'dynamics', 'gp', 'prweb', 'february', 'read', 'full', 'story']\n"
     ]
    }
   ],
   "source": [
    "example = [i for i in example if i not in list_stop_words]\n",
    "print(example)"
   ]
  },
  {
   "cell_type": "code",
   "execution_count": 18,
   "metadata": {},
   "outputs": [
    {
     "name": "stdout",
     "output_type": "stream",
     "text": [
      "['attendee', 'expect', 'see', 'latest', 'version', 'microsoft', 'dynamics', 'sl', 'dynamics', 'gp', 'prweb', 'february', 'read', 'full', 'story']\n"
     ]
    }
   ],
   "source": [
    "def do_lemmatizing(wrd):\n",
    "    out = nltk.corpus.wordnet.morphy(wrd)\n",
    "    return (wrd if out is None else out)\n",
    "\n",
    "example = [do_lemmatizing(i) for i in example]\n",
    "print(example)\n"
   ]
  },
  {
   "cell_type": "code",
   "execution_count": 19,
   "metadata": {},
   "outputs": [
    {
     "name": "stdout",
     "output_type": "stream",
     "text": [
      "['attendee', 'expect', 'latest', 'version', 'microsoft', 'dynamics', 'dynamics', 'prweb', 'february', 'story']\n"
     ]
    }
   ],
   "source": [
    "example = [i for i in example if len(i) >= 5]\n",
    "print(example)"
   ]
  },
  {
   "cell_type": "code",
   "execution_count": 20,
   "metadata": {},
   "outputs": [],
   "source": [
    "#EXERCISE 4\n",
    "def do_headline_cleaning(txt):\n",
    "# identify language of tweet\n",
    "# return null if language not English\n",
    "    lg = do_language_identifying(txt)\n",
    "    if lg != 'en': \n",
    "        return None\n",
    "# split the string on whitespace\n",
    "    out = txt.split(\" \")\n",
    "# identify urls\n",
    "# replace with URL\n",
    "    out = ['URL' if bool(regex.search(\"http[s]?://\", i)) else i for i in out]\n",
    "# remove all punctuation\n",
    "    out = [regex.sub(\"[^\\\\w\\\\s]|\\n\", \"\", i) for i in out]\n",
    "# remove all numerics\n",
    "    out = [regex.sub(\"^[0-9]*$\", \"\", i) for i in out]\n",
    "# make all non-keywords lowercase\n",
    "    out = [i.lower() if i not in \"URL\" else i for i in out]\n",
    "# remove URL\n",
    "    out = [i for i in out if i not in \"URL\"]\n",
    "# remove stopwords\n",
    "    list_stop_words = nltk.corpus.stopwords.words(\"English\")\n",
    "    list_stop_words = [regex.sub(\"[^\\\\w\\\\s]\", \"\", i) for i in list_stop_words]\n",
    "    out = [i for i in out if i not in list_stop_words]\n",
    "# lemmatizing\n",
    "    out = [do_lemmatizing(i) for i in out]\n",
    "# keep words 5 or more characters long\n",
    "    out = [i for i in out if len(i) >= 5]\n",
    "    return out\n"
   ]
  },
  {
   "cell_type": "code",
   "execution_count": 21,
   "metadata": {},
   "outputs": [],
   "source": [
    "clean = list(map(do_headline_cleaning, raw))"
   ]
  },
  {
   "cell_type": "code",
   "execution_count": 22,
   "metadata": {},
   "outputs": [
    {
     "name": "stdout",
     "output_type": "stream",
     "text": [
      "HEADLINES:\n",
      "[['obama', 'wreath', 'arlington', 'national', 'cemetery', 'president', 'barack', 'obama', 'wreath', 'unknown', 'honor'], ['haywood', 'investment', 'director', 'businessunit', 'income', 'discus', 'china', 'beige', 'state', 'economy'], ['nouriel', 'roubini', 'professor', 'chairman', 'roubini', 'global', 'economics', 'explain', 'global', 'economy', 'facing', 'conditions'], ['finland', 'economy', 'expand', 'marginally', 'three', 'month', 'december', 'contracting', 'previous', 'quarter', 'preliminary', 'figure', 'statistics', 'finland', 'monday'], ['tourism', 'public', 'spending', 'continue', 'boost', 'economy', 'january', 'light', 'contraction', 'private', 'consumption', 'export', 'accord', 'thailand']]\n",
      "\n",
      "LENGTH:\n",
      "92946\n",
      "\n"
     ]
    }
   ],
   "source": [
    "clean = list(filter(None.__ne__, clean))\n",
    "print(\"HEADLINES:\\n{lines}\\n\".format(lines=clean[:5]))\n",
    "print(\"LENGTH:\\n{length}\\n\".format(length=len(clean)))"
   ]
  },
  {
   "cell_type": "code",
   "execution_count": 23,
   "metadata": {
    "scrolled": true
   },
   "outputs": [
    {
     "name": "stdout",
     "output_type": "stream",
     "text": [
      "['obama wreath arlington national cemetery president barack obama wreath unknown honor', 'haywood investment director businessunit income discus china beige state economy', 'nouriel roubini professor chairman roubini global economics explain global economy facing conditions', 'finland economy expand marginally three month december contracting previous quarter preliminary figure statistics finland monday', 'tourism public spending continue boost economy january light contraction private consumption export accord thailand', 'attendee expect latest version microsoft dynamics dynamics prweb february story', 'ramallah february palestine liberation organization sectretarygeneral erekat thursday express concern kenyan president uhuru kenyattas visit jerusalem jordan valley', 'first michelle obama speak state white house washington wednesday interactive student workshop musical legacy charles student school community organization across country participate quotin performance white housequot series', 'hancock county early monday morning family years', 'delhi feb29 technology giant microsoft target rival apple series focusing windows gross windows machine']\n"
     ]
    }
   ],
   "source": [
    "clean_sentences = [\" \".join(i) for i in clean]\n",
    "print(clean_sentences[0:10])"
   ]
  },
  {
   "cell_type": "code",
   "execution_count": 24,
   "metadata": {},
   "outputs": [],
   "source": [
    "#EXERCISE 05\n",
    "number_words = 10\n",
    "number_docs = 10\n",
    "number_features = 1000"
   ]
  },
  {
   "cell_type": "code",
   "execution_count": 25,
   "metadata": {},
   "outputs": [
    {
     "name": "stdout",
     "output_type": "stream",
     "text": [
      "  (0, 408)\t1\n",
      "  (0, 88)\t1\n",
      "  (0, 645)\t1\n",
      "  (0, 558)\t1\n",
      "  (0, 573)\t2\n"
     ]
    }
   ],
   "source": [
    "vectorizer1 = sklearn.feature_extraction.text.CountVectorizer(\n",
    "    analyzer=\"word\",\n",
    "    max_df=0.5, \n",
    "    min_df=20, \n",
    "    max_features=number_features\n",
    ")\n",
    "clean_vec1 = vectorizer1.fit_transform(clean_sentences)\n",
    "print(clean_vec1[0])"
   ]
  },
  {
   "cell_type": "code",
   "execution_count": 26,
   "metadata": {},
   "outputs": [],
   "source": [
    "feature_names_vec1 = vectorizer1.get_feature_names()"
   ]
  },
  {
   "cell_type": "code",
   "execution_count": 27,
   "metadata": {},
   "outputs": [],
   "source": [
    "#EXERCISE 06\n",
    "def perplexity_by_ntopic(data, ntopics):\n",
    "    output_dict = {\n",
    "        \"Number Of Topics\": [], \n",
    "        \"Perplexity Score\": []\n",
    "    }\n",
    "    \n",
    "    for t in ntopics:\n",
    "        lda = sklearn.decomposition.LatentDirichletAllocation(\n",
    "            n_components=t,\n",
    "            learning_method=\"online\",\n",
    "            random_state=0\n",
    "        )\n",
    "        lda.fit(data)\n",
    "        \n",
    "        output_dict[\"Number Of Topics\"].append(t)\n",
    "        output_dict[\"Perplexity Score\"].append(lda.perplexity(data))\n",
    "        \n",
    "    output_df = pandas.DataFrame(output_dict)\n",
    "    \n",
    "    index_min_perplexity = output_df[\"Perplexity Score\"].idxmin()\n",
    "    output_num_topics = output_df.loc[\n",
    "        index_min_perplexity,  # index\n",
    "        \"Number Of Topics\"  # column\n",
    "    ]\n",
    "        \n",
    "    return (output_df, output_num_topics)\n"
   ]
  },
  {
   "cell_type": "code",
   "execution_count": 28,
   "metadata": {},
   "outputs": [
    {
     "name": "stdout",
     "output_type": "stream",
     "text": [
      "   Number Of Topics  Perplexity Score\n",
      "0                 1        510.024400\n",
      "1                 2        459.296172\n",
      "2                 3        410.016148\n",
      "3                 4        435.695133\n",
      "4                 6        502.707093\n",
      "5                 8        547.219000\n",
      "6                10        574.978320\n"
     ]
    }
   ],
   "source": [
    "df_perplexity, optimal_num_topics = perplexity_by_ntopic(\n",
    "    clean_vec1, \n",
    "    ntopics=[1, 2, 3, 4, 6, 8, 10]\n",
    ")\n",
    "print(df_perplexity)"
   ]
  },
  {
   "cell_type": "code",
   "execution_count": 29,
   "metadata": {},
   "outputs": [
    {
     "data": {
      "text/plain": [
       "<matplotlib.axes._subplots.AxesSubplot at 0x205255d7438>"
      ]
     },
     "execution_count": 29,
     "metadata": {},
     "output_type": "execute_result"
    },
    {
     "data": {
      "image/png": "[encoded data removed]",
      "text/plain": [
       "<Figure size 432x288 with 1 Axes>"
      ]
     },
     "metadata": {
      "needs_background": "light"
     },
     "output_type": "display_data"
    }
   ],
   "source": [
    "df_perplexity.plot.line(\"Number Of Topics\", \"Perplexity Score\")"
   ]
  },
  {
   "cell_type": "code",
   "execution_count": 30,
   "metadata": {},
   "outputs": [
    {
     "data": {
      "text/plain": [
       "LatentDirichletAllocation(batch_size=128, doc_topic_prior=None,\n",
       "             evaluate_every=-1, learning_decay=0.7,\n",
       "             learning_method='online', learning_offset=10.0,\n",
       "             max_doc_update_iter=100, max_iter=10, mean_change_tol=0.001,\n",
       "             n_components=3, n_jobs=None, n_topics=None, perp_tol=0.1,\n",
       "             random_state=0, topic_word_prior=None,\n",
       "             total_samples=1000000.0, verbose=0)"
      ]
     },
     "execution_count": 30,
     "metadata": {},
     "output_type": "execute_result"
    }
   ],
   "source": [
    "#EXERCISE 07\n",
    "lda = sklearn.decomposition.LatentDirichletAllocation(\n",
    "    n_components=optimal_num_topics,\n",
    "    learning_method=\"online\",\n",
    "    random_state=0\n",
    ")\n",
    "lda.fit(clean_vec1)"
   ]
  },
  {
   "cell_type": "code",
   "execution_count": 31,
   "metadata": {},
   "outputs": [
    {
     "name": "stdout",
     "output_type": "stream",
     "text": [
      "(92946, 3)\n",
      "[[0.04761957 0.90420154 0.0481789 ]\n",
      " [0.04166779 0.04553201 0.91280021]\n",
      " [0.16625031 0.04701967 0.78673001]\n",
      " ...\n",
      " [0.0398781  0.51423945 0.44588245]\n",
      " [0.06909128 0.86115508 0.06975365]\n",
      " [0.46020958 0.21724679 0.32254363]]\n"
     ]
    }
   ],
   "source": [
    "lda_transform = lda.transform(clean_vec1)\n",
    "print(lda_transform.shape)\n",
    "print(lda_transform)"
   ]
  },
  {
   "cell_type": "code",
   "execution_count": 32,
   "metadata": {},
   "outputs": [
    {
     "name": "stdout",
     "output_type": "stream",
     "text": [
      "(3, 1000)\n",
      "[[3.35221017e-01 2.63809830e+02 1.51006414e+01 ... 3.35637615e-01\n",
      "  2.03877943e+02 4.06629495e-01]\n",
      " [2.74820206e+02 3.79103974e-01 3.63560078e-01 ... 3.45787545e-01\n",
      "  1.71738200e+02 4.35314399e+02]\n",
      " [3.38720609e-01 8.76200272e+00 2.00434271e+02 ... 2.31709628e+02\n",
      "  1.27831907e+02 2.70809332e+01]]\n"
     ]
    }
   ],
   "source": [
    "lda_components = lda.components_\n",
    "print(lda_components.shape)\n",
    "print(lda_components)"
   ]
  },
  {
   "cell_type": "code",
   "execution_count": 33,
   "metadata": {},
   "outputs": [],
   "source": [
    "def get_topics(mod, vec, names, docs, ndocs, nwords):\n",
    "    # word to topic matrix\n",
    "    W = mod.components_\n",
    "    W_norm = W / W.sum(axis=1)[:, numpy.newaxis]\n",
    "    # topic to document matrix\n",
    "    H = mod.transform(vec)\n",
    "    W_dict = {}\n",
    "    H_dict = {}\n",
    "    for tpc_idx, tpc_val in enumerate(W_norm):\n",
    "        topic = \"Topic{}\".format(tpc_idx)\n",
    "        # formatting w\n",
    "        W_indices = tpc_val.argsort()[::-1][:nwords]\n",
    "        W_names_values = [\n",
    "            (round(tpc_val[j], 4), names[j]) \n",
    "            for j in W_indices\n",
    "        ]\n",
    "        W_dict[topic] = W_names_values\n",
    "        # formatting h\n",
    "        H_indices = H[:, tpc_idx].argsort()[::-1][:ndocs]\n",
    "        H_names_values = [\n",
    "            (round(H[:, tpc_idx][j], 4), docs[j]) \n",
    "            for j in H_indices\n",
    "        ]\n",
    "        H_dict[topic] = H_names_values\n",
    "    W_df = pandas.DataFrame(\n",
    "        W_dict, \n",
    "        index=[\"Word\" + str(i) for i in range(nwords)]\n",
    "    )\n",
    "    H_df = pandas.DataFrame(\n",
    "    H_dict,\n",
    "    index=[\"Doc\" + str(i) for i in range(ndocs)]\n",
    "    )\n",
    "    return (W_df, H_df)"
   ]
  },
  {
   "cell_type": "code",
   "execution_count": 34,
   "metadata": {},
   "outputs": [],
   "source": [
    "W_df, H_df = get_topics(\n",
    "    mod=lda,\n",
    "    vec=clean_vec1,\n",
    "    names=feature_names_vec1,\n",
    "    docs=raw,\n",
    "    ndocs=number_docs, \n",
    "    nwords=number_words\n",
    ")"
   ]
  },
  {
   "cell_type": "code",
   "execution_count": 35,
   "metadata": {},
   "outputs": [
    {
     "name": "stdout",
     "output_type": "stream",
     "text": [
      "                     Topic0                 Topic1               Topic2\n",
      "Word0   (0.1058, microsoft)        (0.0899, obama)    (0.0956, economy)\n",
      "Word1     (0.0242, windows)    (0.0779, president)   (0.0329, economic)\n",
      "Word2     (0.0237, company)       (0.0448, barack)     (0.0167, growth)\n",
      "Word3  (0.0191, microsofts)    (0.0163, palestine)      (0.0154, world)\n",
      "Word4    (0.0161, announce)        (0.014, obamas)     (0.0141, global)\n",
      "Word5       (0.0145, today)        (0.0138, state)  (0.012, government)\n",
      "Word6     (0.0108, release)   (0.0134, washington)   (0.0113, minister)\n",
      "Word7      (0.0091, update)  (0.0127, palestinian)       (0.011, china)\n",
      "Word8    (0.0088, business)        (0.0116, house)    (0.0103, percent)\n",
      "Word9     (0.0077, surface)        (0.0106, white)    (0.0097, country)\n"
     ]
    }
   ],
   "source": [
    "print(W_df)"
   ]
  },
  {
   "cell_type": "code",
   "execution_count": 36,
   "metadata": {},
   "outputs": [
    {
     "name": "stdout",
     "output_type": "stream",
     "text": [
      "                                                 Topic0  \\\n",
      "Doc0  (0.9776, That appears to be the thinking behin...   \n",
      "Doc1  (0.9763, &quot;We have put the utmost priority...   \n",
      "Doc2  (0.9757, France's fragile economy has cooled i...   \n",
      "Doc3  (0.9755, US President Barack Obama on Wednesda...   \n",
      "Doc4  (0.9754, WASHINGTON (AP) — President Barack Ob...   \n",
      "Doc5  (0.9754, Software maker Microsoft Corp is sell...   \n",
      "Doc6  (0.9752, President Barack Obama signed a bill ...   \n",
      "Doc7  (0.975, President Barack Obama has told Vladim...   \n",
      "Doc8  (0.975, YOU may already be reading this on Chr...   \n",
      "Doc9  (0.9749, The Estonian economy was also positiv...   \n",
      "\n",
      "                                                 Topic1  \\\n",
      "Doc0  (0.9775, Washington (CNN) President Barack Oba...   \n",
      "Doc1  (0.9775, Kantor says South Africa's monetary p...   \n",
      "Doc2  (0.9773, Malia Obama is 17 and probably wants ...   \n",
      "Doc3  (0.9772, Finance Minister Bill English said th...   \n",
      "Doc4  (0.9771, WASHINGTON — President Barack Obama s...   \n",
      "Doc5  (0.9764, In his final State of the Union addre...   \n",
      "Doc6  (0.9757, Facebook's Mark Zuckerberg has caved ...   \n",
      "Doc7  (0.9757, Thousands of Palestinians took part i...   \n",
      "Doc8  (0.9757, Chinese Premier Li Keqiang pledged th...   \n",
      "Doc9  (0.9755, Mounting concern about the global eco...   \n",
      "\n",
      "                                                 Topic2  \n",
      "Doc0  (0.9788, Microsoft buys Talko to make Skype be...  \n",
      "Doc1  (0.9782, Microsoft is releasing a new SharePoi...  \n",
      "Doc2  (0.9781, Microsoft's latest Windows Phone, the...  \n",
      "Doc3  (0.9781, Microsoft CEO Satya Nadella discussed...  \n",
      "Doc4  (0.9781, Microsoft Nano Server is a new type o...  \n",
      "Doc5  (0.9779, President Obama welcomed the Super Bo...  \n",
      "Doc6  (0.9779, The UK is facing a digital skills cri...  \n",
      "Doc7  (0.9779, Microsoft Corp announced 'Project Sco...  \n",
      "Doc8  (0.9779, Microsoft said Monday that it is buyi...  \n",
      "Doc9  (0.9777, Twitter, Microsoft, Facebook and YouT...  \n"
     ]
    }
   ],
   "source": [
    "print(H_df)"
   ]
  },
  {
   "cell_type": "code",
   "execution_count": 37,
   "metadata": {},
   "outputs": [
    {
     "name": "stderr",
     "output_type": "stream",
     "text": [
      "C:\\Users\\rutujay\\AppData\\Local\\Continuum\\anaconda3\\lib\\site-packages\\pyLDAvis\\_prepare.py:257: FutureWarning: Sorting because non-concatenation axis is not aligned. A future version\n",
      "of pandas will change to not sort by default.\n",
      "\n",
      "To accept the future behavior, pass 'sort=False'.\n",
      "\n",
      "To retain the current behavior and silence the warning, pass 'sort=True'.\n",
      "\n",
      "  return pd.concat([default_term_info] + list(topic_dfs))\n"
     ]
    },
    {
     "data": {
      "text/html": [
       "\n",
       "<link rel=\"stylesheet\" type=\"text/css\" href=\"https://cdn.rawgit.com/bmabey/pyLDAvis/files/ldavis.v1.0.0.css\">\n",
       "\n",
       "\n",
       "<div id=\"ldavis_el1105622213614491442863005174\"></div>\n",
       "<script type=\"text/javascript\">\n",
       "\n",
       "var ldavis_el1105622213614491442863005174_data = {\"mdsDat\": {\"x\": [-0.2875343895580733, 0.08018677096919036, 0.20734761858888276], \"y\": [0.07120377011985608, -0.277109388653459, 0.2059056185336031], \"topics\": [1, 2, 3], \"cluster\": [1, 1, 1], \"Freq\": [38.049911515091104, 35.68734892688904, 26.262739558019852]}, \"tinfo\": {\"Category\": [\"Default\", \"Default\", \"Default\", \"Default\", \"Default\", \"Default\", \"Default\", \"Default\", \"Default\", \"Default\", \"Topic1\", \"Topic1\", \"Topic1\", \"Topic1\", \"Topic1\", \"Topic1\", \"Topic1\", \"Topic1\", \"Topic1\", \"Topic1\", \"Topic1\", \"Topic2\", \"Topic2\", \"Topic2\", \"Topic2\", \"Topic2\", \"Topic2\", \"Topic2\", \"Topic2\", \"Topic2\", \"Topic2\", \"Topic2\", \"Topic2\", \"Topic2\", \"Topic3\", \"Topic3\", \"Topic3\", \"Topic3\", \"Topic3\", \"Topic3\", \"Topic3\", \"Topic3\", \"Topic3\", \"Topic3\", \"Topic3\", \"Topic3\", \"Topic3\", \"Topic3\"], \"Freq\": [21464.0, 26356.0, 26410.0, 22896.0, 13163.0, 9067.0, 4916.0, 4802.0, 3883.0, 4590.0, 26409.572020747848, 22895.303962605038, 13162.33063253075, 4776.937808629961, 4118.105641951596, 3736.083486717837, 3928.504598960549, 3394.136953511019, 3129.010719036453, 3055.071521054532, 4068.7531958011255, 26355.34753859144, 9067.128331085247, 4589.468629667648, 3889.6950011153676, 3028.0175912061245, 3313.3971158236327, 2839.73973240627, 2462.8667795630217, 1515.5802652457921, 1494.7811361266838, 4232.441653872567, 3112.5999343763165, 2660.8020485355114, 21463.54912205402, 4916.300416261426, 4801.99988973621, 3883.292136980955, 1841.5710777198349, 1561.4543689931968, 1515.7862915190638, 1495.3066885355338, 1479.803381748065, 1443.859076784949, 2934.3173292795764, 3274.1946697707244, 2193.6380431953803, 1787.7758239766545], \"Term\": [\"microsoft\", \"economy\", \"obama\", \"president\", \"barack\", \"economic\", \"windows\", \"company\", \"microsofts\", \"growth\", \"obama\", \"president\", \"barack\", \"palestine\", \"obamas\", \"palestinian\", \"washington\", \"house\", \"white\", \"administration\", \"state\", \"economy\", \"economic\", \"growth\", \"global\", \"china\", \"government\", \"percent\", \"quarter\", \"britain\", \"financial\", \"world\", \"minister\", \"country\", \"microsoft\", \"windows\", \"company\", \"microsofts\", \"update\", \"surface\", \"software\", \"cloud\", \"technology\", \"build\", \"today\", \"announce\", \"release\", \"business\"], \"Total\": [21464.0, 26356.0, 26410.0, 22896.0, 13163.0, 9067.0, 4916.0, 4802.0, 3883.0, 4590.0, 26410.264325367127, 22896.00142312205, 13163.019184297891, 4777.661518600995, 4118.799721730784, 3736.78229021141, 3929.2631912739757, 3394.830147110127, 3129.7036514759916, 3055.7770145065906, 5367.394809272582, 26356.045013723324, 9067.829256311383, 4590.153256608682, 3890.4253247701354, 3028.71577064702, 3314.1796496040433, 2840.4285269956436, 2463.55153376042, 1516.30199790035, 1495.5190634563437, 4238.253024022935, 3116.891702113469, 3474.856913249673, 21464.21936790171, 4916.964588578394, 4802.7017995638, 3883.960735179983, 1842.2502075185591, 1562.12096830908, 1516.456972518651, 1495.9805911655142, 1480.490169129122, 1444.5581866634525, 2938.15070021959, 3791.750519588603, 2674.561933829396, 3279.134481744649], \"loglift\": [10.0, 9.0, 8.0, 7.0, 6.0, 5.0, 4.0, 3.0, 2.0, 1.0, 0.9662, 0.9662, 0.9662, 0.9661, 0.9661, 0.9661, 0.9661, 0.9661, 0.966, 0.966, 0.6893, 1.0303, 1.0303, 1.0302, 1.0302, 1.0301, 1.0301, 1.0301, 1.0301, 1.0299, 1.0299, 1.029, 1.029, 0.7634, 1.337, 1.3369, 1.3369, 1.3368, 1.3367, 1.3366, 1.3366, 1.3366, 1.3366, 1.3365, 1.3357, 1.1903, 1.1388, 0.7304], \"logprob\": [10.0, 9.0, 8.0, 7.0, 6.0, 5.0, 4.0, 3.0, 2.0, 1.0, -2.4093, -2.5521, -3.1057, -4.1193, -4.2677, -4.365, -4.3148, -4.461, -4.5423, -4.5663, -4.2797, -2.3473, -3.4143, -4.0952, -4.2606, -4.5111, -4.421, -4.5752, -4.7176, -5.2032, -5.217, -4.1762, -4.4835, -4.6403, -2.246, -3.7198, -3.7433, -3.9556, -4.7017, -4.8667, -4.8964, -4.91, -4.9204, -4.945, -4.2358, -4.1262, -4.5268, -4.7313]}, \"token.table\": {\"Topic\": [1, 1, 3, 1, 2, 3, 2, 3, 2, 3, 3, 1, 2, 2, 2, 2, 2, 2, 2, 1, 3, 3, 1, 2, 3, 1, 1, 1, 1, 2, 1, 2, 1, 2, 3, 3, 1, 2, 3, 3, 1, 3, 3, 1, 1, 3, 2, 3], \"Freq\": [0.9997457227726689, 0.1363486329939485, 0.8634534321512329, 0.9999225721482571, 0.99980083261727, 0.9996135935065781, 0.45469315403213356, 0.5452658346139871, 0.9997636718988435, 0.9993445161178527, 0.999853874008196, 0.23425424997967764, 0.7657869277591182, 0.9999085496332206, 0.999960350131335, 0.9996529208693976, 0.9998906739663072, 0.9996440598492649, 0.9997487542257938, 0.9997554672622329, 0.9999897798332215, 0.9997526403469321, 0.0003208324496234279, 0.9987514156777311, 0.0009624973488702838, 0.9999899915667685, 0.9998058362181185, 0.9998615392491872, 0.9997906513811471, 0.9998491329770945, 0.9999562620955711, 0.9997761224992203, 0.0007477860111231118, 0.17872085665842372, 0.8203212542020536, 0.9996986577747129, 0.7580959002625433, 0.24183054277237187, 0.9992824062080843, 0.999668914296533, 0.001021050417793678, 0.9985873086022171, 0.9998641837479306, 0.9999330176521236, 0.9997751699348084, 0.9998038243796519, 0.9985246222942584, 0.001179731359043311], \"Term\": [\"administration\", \"announce\", \"announce\", \"barack\", \"britain\", \"build\", \"business\", \"business\", \"china\", \"cloud\", \"company\", \"country\", \"country\", \"economic\", \"economy\", \"financial\", \"global\", \"government\", \"growth\", \"house\", \"microsoft\", \"microsofts\", \"minister\", \"minister\", \"minister\", \"obama\", \"obamas\", \"palestine\", \"palestinian\", \"percent\", \"president\", \"quarter\", \"release\", \"release\", \"release\", \"software\", \"state\", \"state\", \"surface\", \"technology\", \"today\", \"today\", \"update\", \"washington\", \"white\", \"windows\", \"world\", \"world\"]}, \"R\": 10, \"lambda.step\": 0.01, \"plot.opts\": {\"xlab\": \"PC1\", \"ylab\": \"PC2\"}, \"topic.order\": [2, 3, 1]};\n",
       "\n",
       "function LDAvis_load_lib(url, callback){\n",
       "  var s = document.createElement('script');\n",
       "  s.src = url;\n",
       "  s.async = true;\n",
       "  s.onreadystatechange = s.onload = callback;\n",
       "  s.onerror = function(){console.warn(\"failed to load library \" + url);};\n",
       "  document.getElementsByTagName(\"head\")[0].appendChild(s);\n",
       "}\n",
       "\n",
       "if(typeof(LDAvis) !== \"undefined\"){\n",
       "   // already loaded: just create the visualization\n",
       "   !function(LDAvis){\n",
       "       new LDAvis(\"#\" + \"ldavis_el1105622213614491442863005174\", ldavis_el1105622213614491442863005174_data);\n",
       "   }(LDAvis);\n",
       "}else if(typeof define === \"function\" && define.amd){\n",
       "   // require.js is available: use it to load d3/LDAvis\n",
       "   require.config({paths: {d3: \"https://cdnjs.cloudflare.com/ajax/libs/d3/3.5.5/d3.min\"}});\n",
       "   require([\"d3\"], function(d3){\n",
       "      window.d3 = d3;\n",
       "      LDAvis_load_lib(\"https://cdn.rawgit.com/bmabey/pyLDAvis/files/ldavis.v1.0.0.js\", function(){\n",
       "        new LDAvis(\"#\" + \"ldavis_el1105622213614491442863005174\", ldavis_el1105622213614491442863005174_data);\n",
       "      });\n",
       "    });\n",
       "}else{\n",
       "    // require.js not available: dynamically load d3 & LDAvis\n",
       "    LDAvis_load_lib(\"https://cdnjs.cloudflare.com/ajax/libs/d3/3.5.5/d3.min.js\", function(){\n",
       "         LDAvis_load_lib(\"https://cdn.rawgit.com/bmabey/pyLDAvis/files/ldavis.v1.0.0.js\", function(){\n",
       "                 new LDAvis(\"#\" + \"ldavis_el1105622213614491442863005174\", ldavis_el1105622213614491442863005174_data);\n",
       "            })\n",
       "         });\n",
       "}\n",
       "</script>"
      ],
      "text/plain": [
       "<IPython.core.display.HTML object>"
      ]
     },
     "execution_count": 37,
     "metadata": {},
     "output_type": "execute_result"
    }
   ],
   "source": [
    "#EXERCISE 08\n",
    "lda_plot = pyLDAvis.sklearn.prepare(lda, clean_vec1, vectorizer1, R=10)\n",
    "pyLDAvis.display(lda_plot)"
   ]
  },
  {
   "cell_type": "code",
   "execution_count": 38,
   "metadata": {},
   "outputs": [],
   "source": [
    "def plot_tsne(data, threshold):\n",
    "    # filter data according to threshold\n",
    "    index_meet_threshold = numpy.amax(data, axis=1) >= threshold\n",
    "    lda_transform_filt = data[index_meet_threshold]\n",
    "    # fit tsne model\n",
    "    # x-d -> 2-d, x = number of topics\n",
    "    tsne = sklearn.manifold.TSNE(\n",
    "        n_components=2, \n",
    "        verbose=0, \n",
    "        random_state=0, \n",
    "        angle=0.5, \n",
    "        init='pca'\n",
    "    )\n",
    "    tsne_fit = tsne.fit_transform(lda_transform_filt)\n",
    "    # most probable topic for each headline\n",
    "    most_prob_topic = []\n",
    "    for i in range(tsne_fit.shape[0]):\n",
    "        most_prob_topic.append(lda_transform_filt[i].argmax())\n",
    "    print(\"LENGTH:\\n{}\\n\".format(len(most_prob_topic)))\n",
    "    unique, counts = numpy.unique(\n",
    "        numpy.array(most_prob_topic), \n",
    "        return_counts=True\n",
    "    )\n",
    "    print(\"COUNTS:\\n{}\\n\".format(numpy.asarray((unique, counts)).T))\n",
    "    # make plot\n",
    "    color_list = ['b', 'g', 'r', 'c', 'm', 'y', 'k']\n",
    "    for i in list(set(most_prob_topic)):\n",
    "        indices = [\n",
    "idx for idx, val in enumerate(most_prob_topic) if val == i\n",
    "]\n",
    "        matplotlib.pyplot.scatter(\n",
    "            x=tsne_fit[indices, 0], \n",
    "            y=tsne_fit[indices, 1], \n",
    "            s=0.5, \n",
    "            c=color_list[i], \n",
    "            label='Topic' + str(i),\n",
    "            alpha=0.25\n",
    "        )\n",
    "\n",
    "    matplotlib.pyplot.xlabel('x-tsne')\n",
    "    matplotlib.pyplot.ylabel('y-tsne')\n",
    "    matplotlib.pyplot.legend(markerscale=10)"
   ]
  },
  {
   "cell_type": "code",
   "execution_count": 39,
   "metadata": {},
   "outputs": [
    {
     "name": "stdout",
     "output_type": "stream",
     "text": [
      "LENGTH:\n",
      "56898\n",
      "\n",
      "COUNTS:\n",
      "[[    0 14813]\n",
      " [    1 22629]\n",
      " [    2 19456]]\n",
      "\n"
     ]
    },
    {
     "data": {
      "image/png": "[encoded data removed]",
      "text/plain": [
       "<Figure size 432x288 with 1 Axes>"
      ]
     },
     "metadata": {
      "needs_background": "light"
     },
     "output_type": "display_data"
    }
   ],
   "source": [
    "plot_tsne(data=lda_transform, threshold=0.75)"
   ]
  },
  {
   "cell_type": "code",
   "execution_count": 40,
   "metadata": {},
   "outputs": [
    {
     "data": {
      "text/plain": [
       "LatentDirichletAllocation(batch_size=128, doc_topic_prior=None,\n",
       "             evaluate_every=-1, learning_decay=0.7,\n",
       "             learning_method='online', learning_offset=10.0,\n",
       "             max_doc_update_iter=100, max_iter=10, mean_change_tol=0.001,\n",
       "             n_components=4, n_jobs=None, n_topics=None, perp_tol=0.1,\n",
       "             random_state=0, topic_word_prior=None,\n",
       "             total_samples=1000000.0, verbose=0)"
      ]
     },
     "execution_count": 40,
     "metadata": {},
     "output_type": "execute_result"
    }
   ],
   "source": [
    "lda4 = sklearn.decomposition.LatentDirichletAllocation(\n",
    "    n_components=4,  # number of topics data suggests\n",
    "    learning_method=\"online\",\n",
    "    random_state=0\n",
    ")\n",
    "lda4.fit(clean_vec1)"
   ]
  },
  {
   "cell_type": "code",
   "execution_count": 41,
   "metadata": {},
   "outputs": [],
   "source": [
    "W_df4, H_df4 = get_topics(\n",
    "    mod=lda4,\n",
    "    vec=clean_vec1,\n",
    "    names=feature_names_vec1,\n",
    "    docs=raw,\n",
    "    ndocs=number_docs, \n",
    "    nwords=number_words\n",
    ")"
   ]
  },
  {
   "cell_type": "code",
   "execution_count": 42,
   "metadata": {},
   "outputs": [
    {
     "name": "stdout",
     "output_type": "stream",
     "text": [
      "                   Topic0                    Topic1                 Topic2  \\\n",
      "Word0   (0.0888, economy)           (0.1071, obama)      (0.0625, economy)   \n",
      "Word1  (0.0512, economic)       (0.0929, president)    (0.0285, palestine)   \n",
      "Word2    (0.0219, global)          (0.0534, barack)        (0.0249, world)   \n",
      "Word3    (0.0178, report)          (0.0167, obamas)   (0.0195, government)   \n",
      "Word4  (0.0176, minister)      (0.0159, washington)      (0.0167, percent)   \n",
      "Word5    (0.0147, market)           (0.0143, state)        (0.0152, month)   \n",
      "Word6     (0.0142, china)           (0.0138, house)        (0.0147, first)   \n",
      "Word7    (0.0139, growth)           (0.0127, white)      (0.0145, quarter)   \n",
      "Word8      (0.012, could)  (0.0124, administration)  (0.0133, palestinian)   \n",
      "Word9   (0.0112, country)           (0.0093, visit)       (0.0125, growth)   \n",
      "\n",
      "                     Topic3  \n",
      "Word0   (0.1202, microsoft)  \n",
      "Word1     (0.0275, windows)  \n",
      "Word2     (0.0269, company)  \n",
      "Word3  (0.0217, microsofts)  \n",
      "Word4    (0.0214, announce)  \n",
      "Word5     (0.0112, release)  \n",
      "Word6       (0.0108, today)  \n",
      "Word7      (0.0103, update)  \n",
      "Word8     (0.0087, surface)  \n",
      "Word9      (0.0086, office)  \n"
     ]
    }
   ],
   "source": [
    "print(W_df4)"
   ]
  },
  {
   "cell_type": "code",
   "execution_count": 43,
   "metadata": {},
   "outputs": [
    {
     "name": "stdout",
     "output_type": "stream",
     "text": [
      "                                                 Topic0  \\\n",
      "Doc0  (0.968, German businesses are confident about ...   \n",
      "Doc1  (0.9571, Canmore is preparing for another good...   \n",
      "Doc2  (0.9527, Microsoft's Android applications cont...   \n",
      "Doc3  (0.9527, Rajan, known to have frank views on s...   \n",
      "Doc4  (0.9499, The Community Sector Council has pres...   \n",
      "Doc5  (0.9499, #microsoft landing. # microsoft-landi...   \n",
      "Doc6  (0.9499, I FIRST met Larraine when we both liv...   \n",
      "Doc7  (0.9493, Industrial production fell more than ...   \n",
      "Doc8  (0.9491, As a one-woman enterprise, she can be...   \n",
      "Doc9  (0.9484, President Barack Obama discusses crim...   \n",
      "\n",
      "                                                 Topic1  \\\n",
      "Doc0  (0.9751, Finance Minister Bill English said th...   \n",
      "Doc1  (0.9719, Yet another poll is out showing that ...   \n",
      "Doc2  (0.9697, ASSOCIATED PRESS/CHARLES DHARAPAK. Pr...   \n",
      "Doc3  (0.9697, Two scholars examine, from the Jewish...   \n",
      "Doc4  (0.9695, WASHINGTON (AP) -- President Barack O...   \n",
      "Doc5  (0.9695, By the time Microsoft really turned i...   \n",
      "Doc6  (0.9685, The recent bounce-back in the price o...   \n",
      "Doc7  (0.9685, President Barack Obama on Wednesday w...   \n",
      "Doc8  (0.9685, BUSINESS WIRE)--Adobe (Nasdaq:ADBE) t...   \n",
      "Doc9  (0.9685, WASHINGTON — President Barack Obama h...   \n",
      "\n",
      "                                                 Topic2  \\\n",
      "Doc0  (0.9756, President Obama welcomed the Super Bo...   \n",
      "Doc1  (0.9748, Manifold Technology has realised the ...   \n",
      "Doc2  (0.9747, (CNN) The Obama administration will a...   \n",
      "Doc3  (0.9747, Obama, a featured speaker at the annu...   \n",
      "Doc4  (0.9737, The U.S. economy grew at a slightly f...   \n",
      "Doc5  (0.9721, Microsoft Corp.'s diversity efforts m...   \n",
      "Doc6  (0.9709, Microsoft has partnered with Autodesk...   \n",
      "Doc7  (0.9709,  Microsoft has laid off 30 employees ...   \n",
      "Doc8  (0.9705, The creators of &quot;Game of Thrones...   \n",
      "Doc9  (0.9703, Obama to strategize with his counterp...   \n",
      "\n",
      "                                                 Topic3  \n",
      "Doc0  (0.972, 2 economy could be sucked into a Japan...  \n",
      "Doc1  (0.972, The Estonian economy was also positive...  \n",
      "Doc2  (0.972, \"\"\"When I began working on this concep...  \n",
      "Doc3  (0.9711, BENGALURU: The global tech giant Micr...  \n",
      "Doc4  (0.9709, WASHINGTON \"\"\" President Obama lauded...  \n",
      "Doc5  (0.9706, US President Barack Obama has signed ...  \n",
      "Doc6  (0.9706, Donald Trump said Tuesday that it was...  \n",
      "Doc7  (0.9705, Today, Microsoft officially released ...  \n",
      "Doc8  (0.9695, Former Federal Reserve Chairman Alan ...  \n",
      "Doc9  (0.9694, Microsoft on Monday announced that it...  \n"
     ]
    }
   ],
   "source": [
    "print(H_df4)"
   ]
  },
  {
   "cell_type": "code",
   "execution_count": 44,
   "metadata": {},
   "outputs": [
    {
     "name": "stderr",
     "output_type": "stream",
     "text": [
      "C:\\Users\\rutujay\\AppData\\Local\\Continuum\\anaconda3\\lib\\site-packages\\pyLDAvis\\_prepare.py:257: FutureWarning: Sorting because non-concatenation axis is not aligned. A future version\n",
      "of pandas will change to not sort by default.\n",
      "\n",
      "To accept the future behavior, pass 'sort=False'.\n",
      "\n",
      "To retain the current behavior and silence the warning, pass 'sort=True'.\n",
      "\n",
      "  return pd.concat([default_term_info] + list(topic_dfs))\n"
     ]
    },
    {
     "data": {
      "text/html": [
       "\n",
       "<link rel=\"stylesheet\" type=\"text/css\" href=\"https://cdn.rawgit.com/bmabey/pyLDAvis/files/ldavis.v1.0.0.css\">\n",
       "\n",
       "\n",
       "<div id=\"ldavis_el1105622215099266081556275898\"></div>\n",
       "<script type=\"text/javascript\">\n",
       "\n",
       "var ldavis_el1105622215099266081556275898_data = {\"mdsDat\": {\"x\": [0.09852023560607863, -0.24135657503331087, -0.15207091815969526, 0.2949072575869277], \"y\": [-0.33610383189993853, 0.11604646893211701, 0.008445393167780554, 0.2116119698000408], \"topics\": [1, 2, 3, 4], \"cluster\": [1, 1, 1, 1], \"Freq\": [31.5917445646405, 22.992060568586428, 22.714611929117634, 22.70158293765543]}, \"tinfo\": {\"Category\": [\"Default\", \"Default\", \"Default\", \"Default\", \"Default\", \"Default\", \"Default\", \"Default\", \"Default\", \"Default\", \"Topic1\", \"Topic1\", \"Topic1\", \"Topic1\", \"Topic1\", \"Topic1\", \"Topic1\", \"Topic1\", \"Topic1\", \"Topic1\", \"Topic1\", \"Topic2\", \"Topic2\", \"Topic2\", \"Topic2\", \"Topic2\", \"Topic2\", \"Topic2\", \"Topic2\", \"Topic2\", \"Topic2\", \"Topic2\", \"Topic2\", \"Topic2\", \"Topic2\", \"Topic2\", \"Topic2\", \"Topic3\", \"Topic3\", \"Topic3\", \"Topic3\", \"Topic3\", \"Topic3\", \"Topic3\", \"Topic3\", \"Topic3\", \"Topic3\", \"Topic3\", \"Topic3\", \"Topic3\", \"Topic3\", \"Topic3\", \"Topic3\", \"Topic3\", \"Topic4\", \"Topic4\", \"Topic4\", \"Topic4\", \"Topic4\", \"Topic4\", \"Topic4\", \"Topic4\", \"Topic4\", \"Topic4\", \"Topic4\", \"Topic4\", \"Topic4\"], \"Freq\": [21076.0, 26141.0, 22662.0, 26728.0, 13028.0, 9083.0, 5001.0, 4828.0, 4715.0, 4375.0, 26140.446631402676, 22661.98377196153, 13028.16132484472, 4076.077721753446, 3888.4482738866263, 3359.484732133859, 3097.0596655602085, 3023.87960230754, 2260.3371863878333, 2092.1044339244045, 3478.1054674022794, 9082.830461281976, 3896.4134852593024, 3121.453719055527, 3162.676413812824, 1956.390286165573, 1874.8117785781562, 1518.1635728376186, 1497.3383186948618, 1387.4991086841628, 1334.1351105010547, 15771.466137409638, 2605.641965165095, 2519.7811091044255, 2122.3461374132107, 2465.00302727287, 1981.6282616341516, 5000.392858009287, 2932.013382393339, 2542.8851777280347, 1651.7776428795917, 1656.5171535125135, 3419.922367746546, 1233.883662232895, 1167.988184394439, 1167.3908230644336, 1158.6627632767554, 4370.706164068283, 2025.270324030696, 2665.348572814724, 10956.582049022047, 2333.353467333102, 2571.048488977319, 2198.1619366755294, 21075.755361152987, 4827.409692759407, 4715.193262679763, 3813.062927437074, 3745.2299294666414, 1808.2294539679474, 1533.1655946006142, 1488.324328836897, 1468.2172004050074, 1453.0002367610646, 1962.7333554107627, 1889.0213524581222, 1515.7371975102917], \"Term\": [\"microsoft\", \"obama\", \"president\", \"economy\", \"barack\", \"economic\", \"palestine\", \"windows\", \"company\", \"world\", \"obama\", \"president\", \"barack\", \"obamas\", \"washington\", \"house\", \"white\", \"administration\", \"visit\", \"trump\", \"state\", \"economic\", \"global\", \"minister\", \"report\", \"european\", \"union\", \"britain\", \"financial\", \"still\", \"major\", \"economy\", \"market\", \"china\", \"could\", \"growth\", \"country\", \"palestine\", \"percent\", \"quarter\", \"three\", \"international\", \"government\", \"expand\", \"second\", \"japan\", \"interest\", \"world\", \"official\", \"month\", \"economy\", \"palestinian\", \"first\", \"growth\", \"microsoft\", \"windows\", \"company\", \"microsofts\", \"announce\", \"update\", \"surface\", \"software\", \"cloud\", \"technology\", \"release\", \"today\", \"office\"], \"Total\": [21076.0, 26141.0, 22662.0, 26728.0, 13028.0, 9083.0, 5001.0, 4828.0, 4715.0, 4375.0, 26141.216600080897, 22662.755657350604, 13028.929420838114, 4076.848971606854, 3889.2433346224784, 3360.254936450503, 3097.829380260135, 3024.65585352757, 2261.120029984801, 2092.876573615763, 5370.874959415671, 9083.605993187213, 3897.1924645736135, 3122.23714786488, 3163.4831689096018, 1957.1609255444732, 1875.6074561058479, 1518.9389909772237, 1498.1186616633117, 1388.313123288538, 1334.9623441123051, 26728.55261606538, 2991.5748700530903, 3049.7616227935964, 2460.2094580782377, 4663.665967995291, 3505.1273312958765, 5001.158714411049, 2932.7754987419553, 2543.6413356437565, 1652.5557240491696, 1657.398836926803, 3421.8971241247755, 1234.6673014284625, 1168.7658716822516, 1168.1744879450337, 1159.4488753965782, 4375.819195880809, 2029.863997718312, 3377.3172545692155, 26728.55261606538, 3825.715243024444, 5534.558584468198, 4663.665967995291, 21076.51357564445, 4828.163924744664, 4715.966389917357, 3813.820130651483, 3746.7122402929303, 1808.990885980516, 1533.9214181027878, 1489.0824107900114, 1468.976004421622, 1453.7658294954806, 2654.212699248156, 2879.4282919798316, 2525.09034189697], \"loglift\": [10.0, 9.0, 8.0, 7.0, 6.0, 5.0, 4.0, 3.0, 2.0, 1.0, 1.1522, 1.1522, 1.1522, 1.1521, 1.1521, 1.152, 1.152, 1.152, 1.1519, 1.1519, 0.7178, 1.4699, 1.4698, 1.4698, 1.4698, 1.4696, 1.4696, 1.4695, 1.4695, 1.4694, 1.4694, 0.9425, 1.3319, 1.2791, 1.3223, 0.8324, 0.8997, 1.482, 1.4819, 1.4819, 1.4817, 1.4816, 1.4816, 1.4815, 1.4815, 1.4815, 1.4815, 1.481, 1.4799, 1.2454, 0.5904, 0.9877, 0.7155, 0.73, 1.4827, 1.4826, 1.4826, 1.4825, 1.4823, 1.4823, 1.4822, 1.4822, 1.4822, 1.4822, 1.1809, 1.0612, 0.9724], \"logprob\": [10.0, 9.0, 8.0, 7.0, 6.0, 5.0, 4.0, 3.0, 2.0, 1.0, -2.2336, -2.3764, -2.9299, -4.0919, -4.139, -4.2853, -4.3666, -4.3905, -4.6815, -4.7589, -4.2506, -2.9729, -3.8193, -4.041, -4.0279, -4.5082, -4.5508, -4.7618, -4.7756, -4.8518, -4.891, -2.4211, -4.2216, -4.2551, -4.4268, -4.2771, -4.4954, -3.5577, -4.0915, -4.2339, -4.6653, -4.6625, -3.9376, -4.957, -5.0119, -5.0124, -5.0199, -3.6922, -4.4615, -4.1868, -2.7732, -4.3199, -4.2229, -4.3796, -2.1185, -3.5923, -3.6158, -3.8282, -3.8461, -4.5743, -4.7393, -4.7689, -4.7825, -4.793, -4.4923, -4.5305, -4.7507]}, \"token.table\": {\"Topic\": [1, 1, 4, 1, 2, 2, 3, 4, 4, 2, 4, 1, 2, 3, 2, 2, 3, 2, 3, 2, 1, 3, 4, 2, 2, 3, 2, 3, 1, 3, 3, 3, 2, 2, 4, 4, 4, 2, 3, 4, 1, 1, 1, 4, 2, 3, 4, 3, 1, 3, 3, 1, 3, 3, 4, 2, 3, 4, 1, 2, 3, 2, 4, 4, 3, 1, 2, 3, 4, 1, 2, 4, 1, 1, 1, 4, 3, 4], \"Freq\": [0.9997831642476598, 0.00026690066806993876, 0.9995430019219206, 0.9999286648343779, 0.9993818112624657, 0.8262940884185132, 0.17345617967198151, 0.9993355885877753, 0.9997950812543059, 0.8625281855706604, 0.1369802066622585, 0.16575717373017634, 0.5654573465287599, 0.268749152588341, 0.9999332871562606, 0.5900431731765652, 0.40993615170221454, 0.999406831840284, 0.9994595293584835, 0.999253289013789, 0.3675089835905029, 0.46453569164758257, 0.16785439810991995, 0.9996940195834685, 0.0002922355534740898, 0.9994455928813872, 0.5285541496574201, 0.47130305109412146, 0.999626535345015, 0.9996128545155347, 0.9997593597160099, 0.9989945954502912, 0.9992791226534969, 0.8711130802999935, 0.1286947566828463, 0.9999756327989159, 0.9997849582247229, 0.9996037623645192, 0.7890878466908868, 0.21052212345111465, 0.9999534604643882, 0.9997917578961677, 0.3995896634898181, 0.6003745588211736, 0.0019705753708111665, 0.9976037814731532, 0.0004926438427027916, 0.9997683108101109, 0.38999243415212725, 0.6098206091668317, 0.9997355751429702, 0.9999666564224567, 0.9997478671089475, 0.26034085369109106, 0.7395790098344598, 0.9998472667993463, 0.999344717619835, 0.9992731021586393, 0.6475667421567365, 0.17520422782331485, 0.17725231125164265, 0.9990541591327556, 0.9993993055368329, 0.999473209866443, 0.9996637184204549, 0.11599524840757501, 0.06181782699565375, 0.16635246702763004, 0.656033006712303, 0.9995811632530969, 0.9996761283370513, 0.9994522437961434, 0.9995046569974401, 0.9996803145199453, 0.9997322705164396, 0.9997589301517501, 0.9988986757301705, 0.001142643188892897], \"Term\": [\"administration\", \"announce\", \"announce\", \"barack\", \"britain\", \"china\", \"china\", \"cloud\", \"company\", \"could\", \"could\", \"country\", \"country\", \"country\", \"economic\", \"economy\", \"economy\", \"european\", \"expand\", \"financial\", \"first\", \"first\", \"first\", \"global\", \"government\", \"government\", \"growth\", \"growth\", \"house\", \"interest\", \"international\", \"japan\", \"major\", \"market\", \"market\", \"microsoft\", \"microsofts\", \"minister\", \"month\", \"month\", \"obama\", \"obamas\", \"office\", \"office\", \"official\", \"official\", \"official\", \"palestine\", \"palestinian\", \"palestinian\", \"percent\", \"president\", \"quarter\", \"release\", \"release\", \"report\", \"second\", \"software\", \"state\", \"state\", \"state\", \"still\", \"surface\", \"technology\", \"three\", \"today\", \"today\", \"today\", \"today\", \"trump\", \"union\", \"update\", \"visit\", \"washington\", \"white\", \"windows\", \"world\", \"world\"]}, \"R\": 10, \"lambda.step\": 0.01, \"plot.opts\": {\"xlab\": \"PC1\", \"ylab\": \"PC2\"}, \"topic.order\": [2, 1, 3, 4]};\n",
       "\n",
       "function LDAvis_load_lib(url, callback){\n",
       "  var s = document.createElement('script');\n",
       "  s.src = url;\n",
       "  s.async = true;\n",
       "  s.onreadystatechange = s.onload = callback;\n",
       "  s.onerror = function(){console.warn(\"failed to load library \" + url);};\n",
       "  document.getElementsByTagName(\"head\")[0].appendChild(s);\n",
       "}\n",
       "\n",
       "if(typeof(LDAvis) !== \"undefined\"){\n",
       "   // already loaded: just create the visualization\n",
       "   !function(LDAvis){\n",
       "       new LDAvis(\"#\" + \"ldavis_el1105622215099266081556275898\", ldavis_el1105622215099266081556275898_data);\n",
       "   }(LDAvis);\n",
       "}else if(typeof define === \"function\" && define.amd){\n",
       "   // require.js is available: use it to load d3/LDAvis\n",
       "   require.config({paths: {d3: \"https://cdnjs.cloudflare.com/ajax/libs/d3/3.5.5/d3.min\"}});\n",
       "   require([\"d3\"], function(d3){\n",
       "      window.d3 = d3;\n",
       "      LDAvis_load_lib(\"https://cdn.rawgit.com/bmabey/pyLDAvis/files/ldavis.v1.0.0.js\", function(){\n",
       "        new LDAvis(\"#\" + \"ldavis_el1105622215099266081556275898\", ldavis_el1105622215099266081556275898_data);\n",
       "      });\n",
       "    });\n",
       "}else{\n",
       "    // require.js not available: dynamically load d3 & LDAvis\n",
       "    LDAvis_load_lib(\"https://cdnjs.cloudflare.com/ajax/libs/d3/3.5.5/d3.min.js\", function(){\n",
       "         LDAvis_load_lib(\"https://cdn.rawgit.com/bmabey/pyLDAvis/files/ldavis.v1.0.0.js\", function(){\n",
       "                 new LDAvis(\"#\" + \"ldavis_el1105622215099266081556275898\", ldavis_el1105622215099266081556275898_data);\n",
       "            })\n",
       "         });\n",
       "}\n",
       "</script>"
      ],
      "text/plain": [
       "<IPython.core.display.HTML object>"
      ]
     },
     "execution_count": 44,
     "metadata": {},
     "output_type": "execute_result"
    }
   ],
   "source": [
    "lda4_plot = pyLDAvis.sklearn.prepare(lda4, clean_vec1, vectorizer1, R=10)\n",
    "pyLDAvis.display(lda4_plot)"
   ]
  },
  {
   "cell_type": "code",
   "execution_count": 45,
   "metadata": {},
   "outputs": [
    {
     "name": "stdout",
     "output_type": "stream",
     "text": [
      "  (0, 573)\t0.4507771051280328\n",
      "  (0, 558)\t0.4665964149907402\n",
      "  (0, 645)\t0.23483218752458623\n",
      "  (0, 88)\t0.28071329453109684\n",
      "  (0, 408)\t0.6671893861461635\n"
     ]
    }
   ],
   "source": [
    "#EXERCISE 10\n",
    "vectorizer2 = sklearn.feature_extraction.text.TfidfVectorizer(\n",
    "    analyzer=\"word\",\n",
    "    max_df=0.5, \n",
    "    min_df=20, \n",
    "    max_features=number_features,\n",
    "    smooth_idf=False\n",
    ")\n",
    "clean_vec2 = vectorizer2.fit_transform(clean_sentences)\n",
    "print(clean_vec2[0])"
   ]
  },
  {
   "cell_type": "code",
   "execution_count": 46,
   "metadata": {},
   "outputs": [
    {
     "data": {
      "text/plain": [
       "['abbas',\n",
       " 'ability',\n",
       " 'accelerate',\n",
       " 'accept',\n",
       " 'access',\n",
       " 'accord',\n",
       " 'account',\n",
       " 'accused',\n",
       " 'achieve',\n",
       " 'acknowledge',\n",
       " 'acquire',\n",
       " 'acquisition',\n",
       " 'across',\n",
       " 'action',\n",
       " 'activist',\n",
       " 'activity',\n",
       " 'actually',\n",
       " 'addition',\n",
       " 'address',\n",
       " 'administration',\n",
       " 'admit',\n",
       " 'advance',\n",
       " 'adviser',\n",
       " 'affairs',\n",
       " 'affect',\n",
       " 'africa',\n",
       " 'african',\n",
       " 'afternoon',\n",
       " 'agency',\n",
       " 'agenda',\n",
       " 'agree',\n",
       " 'agreement',\n",
       " 'ahead',\n",
       " 'alberta',\n",
       " 'allies',\n",
       " 'allow',\n",
       " 'almost',\n",
       " 'along',\n",
       " 'already',\n",
       " 'although',\n",
       " 'always',\n",
       " 'amazon',\n",
       " 'america',\n",
       " 'american',\n",
       " 'among',\n",
       " 'amount',\n",
       " 'analysis',\n",
       " 'analyst',\n",
       " 'android',\n",
       " 'anniversary',\n",
       " 'announce',\n",
       " 'announcement',\n",
       " 'annual',\n",
       " 'another',\n",
       " 'answer',\n",
       " 'antonin',\n",
       " 'appeal',\n",
       " 'appear',\n",
       " 'apple',\n",
       " 'application',\n",
       " 'approach',\n",
       " 'approve',\n",
       " 'april',\n",
       " 'arabia',\n",
       " 'argentina',\n",
       " 'argue',\n",
       " 'around',\n",
       " 'arrive',\n",
       " 'article',\n",
       " 'asian',\n",
       " 'assistant',\n",
       " 'associate',\n",
       " 'association',\n",
       " 'attack',\n",
       " 'attempt',\n",
       " 'attend',\n",
       " 'attention',\n",
       " 'augment',\n",
       " 'australia',\n",
       " 'australian',\n",
       " 'author',\n",
       " 'authorities',\n",
       " 'authority',\n",
       " 'available',\n",
       " 'average',\n",
       " 'award',\n",
       " 'azure',\n",
       " 'banks',\n",
       " 'barack',\n",
       " 'battle',\n",
       " 'become',\n",
       " 'begin',\n",
       " 'beginning',\n",
       " 'behind',\n",
       " 'beijing',\n",
       " 'belief',\n",
       " 'believe',\n",
       " 'benefit',\n",
       " 'bernardino',\n",
       " 'bernie',\n",
       " 'better',\n",
       " 'billion',\n",
       " 'black',\n",
       " 'blame',\n",
       " 'block',\n",
       " 'bloomberg',\n",
       " 'board',\n",
       " 'boost',\n",
       " 'border',\n",
       " 'brand',\n",
       " 'brazil',\n",
       " 'break',\n",
       " 'brexit',\n",
       " 'bring',\n",
       " 'bringing',\n",
       " 'britain',\n",
       " 'british',\n",
       " 'broad',\n",
       " 'browser',\n",
       " 'brussels',\n",
       " 'budget',\n",
       " 'build',\n",
       " 'building',\n",
       " 'bureau',\n",
       " 'business',\n",
       " 'california',\n",
       " 'calling',\n",
       " 'campaign',\n",
       " 'canada',\n",
       " 'canadian',\n",
       " 'candidate',\n",
       " 'capital',\n",
       " 'carry',\n",
       " 'cause',\n",
       " 'celebrate',\n",
       " 'center',\n",
       " 'central',\n",
       " 'centre',\n",
       " 'century',\n",
       " 'ceremony',\n",
       " 'chair',\n",
       " 'chairman',\n",
       " 'challenge',\n",
       " 'chance',\n",
       " 'change',\n",
       " 'charge',\n",
       " 'check',\n",
       " 'chicago',\n",
       " 'chief',\n",
       " 'child',\n",
       " 'china',\n",
       " 'chinese',\n",
       " 'choice',\n",
       " 'choose',\n",
       " 'chris',\n",
       " 'christmas',\n",
       " 'citizen',\n",
       " 'civil',\n",
       " 'claim',\n",
       " 'class',\n",
       " 'clear',\n",
       " 'climate',\n",
       " 'clinton',\n",
       " 'close',\n",
       " 'cloud',\n",
       " 'collapse',\n",
       " 'college',\n",
       " 'combat',\n",
       " 'coming',\n",
       " 'comment',\n",
       " 'commerce',\n",
       " 'commission',\n",
       " 'commitment',\n",
       " 'committee',\n",
       " 'commodity',\n",
       " 'community',\n",
       " 'company',\n",
       " 'compare',\n",
       " 'complete',\n",
       " 'computer',\n",
       " 'computing',\n",
       " 'concern',\n",
       " 'conditions',\n",
       " 'conference',\n",
       " 'confidence',\n",
       " 'confirm',\n",
       " 'conflict',\n",
       " 'congress',\n",
       " 'connect',\n",
       " 'conservative',\n",
       " 'consider',\n",
       " 'console',\n",
       " 'construction',\n",
       " 'consumer',\n",
       " 'consumption',\n",
       " 'content',\n",
       " 'continue',\n",
       " 'contract',\n",
       " 'contribute',\n",
       " 'control',\n",
       " 'cooperation',\n",
       " 'corporate',\n",
       " 'corporation',\n",
       " 'cortana',\n",
       " 'could',\n",
       " 'council',\n",
       " 'country',\n",
       " 'county',\n",
       " 'couple',\n",
       " 'course',\n",
       " 'court',\n",
       " 'cover',\n",
       " 'create',\n",
       " 'credit',\n",
       " 'crisis',\n",
       " 'critical',\n",
       " 'criticism',\n",
       " 'criticize',\n",
       " 'cuban',\n",
       " 'currency',\n",
       " 'current',\n",
       " 'currently',\n",
       " 'customer',\n",
       " 'daily',\n",
       " 'damage',\n",
       " 'daughter',\n",
       " 'david',\n",
       " 'death',\n",
       " 'debate',\n",
       " 'decade',\n",
       " 'december',\n",
       " 'decide',\n",
       " 'decision',\n",
       " 'declare',\n",
       " 'decline',\n",
       " 'defend',\n",
       " 'defense',\n",
       " 'delhi',\n",
       " 'deliver',\n",
       " 'demand',\n",
       " 'democrat',\n",
       " 'democratic',\n",
       " 'department',\n",
       " 'deputy',\n",
       " 'describe',\n",
       " 'design',\n",
       " 'despite',\n",
       " 'details',\n",
       " 'develop',\n",
       " 'developer',\n",
       " 'developing',\n",
       " 'development',\n",
       " 'device',\n",
       " 'devices',\n",
       " 'different',\n",
       " 'difficult',\n",
       " 'digital',\n",
       " 'dinner',\n",
       " 'direct',\n",
       " 'directly',\n",
       " 'director',\n",
       " 'discus',\n",
       " 'discuss',\n",
       " 'discussion',\n",
       " 'display',\n",
       " 'district',\n",
       " 'document',\n",
       " 'dollar',\n",
       " 'domestic',\n",
       " 'donald',\n",
       " 'download',\n",
       " 'downturn',\n",
       " 'drive',\n",
       " 'driver',\n",
       " 'dynamics',\n",
       " 'earlier',\n",
       " 'early',\n",
       " 'earnings',\n",
       " 'economic',\n",
       " 'economist',\n",
       " 'economy',\n",
       " 'economyquot',\n",
       " 'edition',\n",
       " 'education',\n",
       " 'effect',\n",
       " 'effort',\n",
       " 'eight',\n",
       " 'elect',\n",
       " 'election',\n",
       " 'email',\n",
       " 'emerge',\n",
       " 'employee',\n",
       " 'employment',\n",
       " 'enable',\n",
       " 'encourage',\n",
       " 'endorse',\n",
       " 'energy',\n",
       " 'engine',\n",
       " 'england',\n",
       " 'enough',\n",
       " 'ensure',\n",
       " 'enter',\n",
       " 'enterprise',\n",
       " 'environment',\n",
       " 'especially',\n",
       " 'estimate',\n",
       " 'europe',\n",
       " 'european',\n",
       " 'eurozone',\n",
       " 'event',\n",
       " 'every',\n",
       " 'everything',\n",
       " 'evidence',\n",
       " 'exchange',\n",
       " 'executive',\n",
       " 'exist',\n",
       " 'expand',\n",
       " 'expansion',\n",
       " 'expect',\n",
       " 'expectation',\n",
       " 'experience',\n",
       " 'expert',\n",
       " 'explain',\n",
       " 'explorer',\n",
       " 'export',\n",
       " 'express',\n",
       " 'extend',\n",
       " 'external',\n",
       " 'facebook',\n",
       " 'facing',\n",
       " 'factor',\n",
       " 'family',\n",
       " 'feature',\n",
       " 'february',\n",
       " 'federal',\n",
       " 'fight',\n",
       " 'figure',\n",
       " 'final',\n",
       " 'finally',\n",
       " 'finance',\n",
       " 'financial',\n",
       " 'first',\n",
       " 'fiscal',\n",
       " 'florida',\n",
       " 'focus',\n",
       " 'follow',\n",
       " 'following',\n",
       " 'force',\n",
       " 'forecast',\n",
       " 'foreign',\n",
       " 'former',\n",
       " 'forum',\n",
       " 'forward',\n",
       " 'found',\n",
       " 'foundation',\n",
       " 'fourth',\n",
       " 'france',\n",
       " 'francisco',\n",
       " 'freedom',\n",
       " 'french',\n",
       " 'fresh',\n",
       " 'friday',\n",
       " 'friend',\n",
       " 'front',\n",
       " 'funding',\n",
       " 'future',\n",
       " 'gaming',\n",
       " 'garland',\n",
       " 'gather',\n",
       " 'general',\n",
       " 'generate',\n",
       " 'generation',\n",
       " 'george',\n",
       " 'german',\n",
       " 'germany',\n",
       " 'getting',\n",
       " 'giant',\n",
       " 'given',\n",
       " 'giving',\n",
       " 'global',\n",
       " 'going',\n",
       " 'google',\n",
       " 'government',\n",
       " 'governor',\n",
       " 'grant',\n",
       " 'great',\n",
       " 'greater',\n",
       " 'gross',\n",
       " 'ground',\n",
       " 'group',\n",
       " 'growing',\n",
       " 'growth',\n",
       " 'hands',\n",
       " 'happen',\n",
       " 'hardware',\n",
       " 'havana',\n",
       " 'headset',\n",
       " 'health',\n",
       " 'helping',\n",
       " 'higher',\n",
       " 'highlight',\n",
       " 'hillary',\n",
       " 'hiroshima',\n",
       " 'historic',\n",
       " 'history',\n",
       " 'holding',\n",
       " 'holiday',\n",
       " 'hololens',\n",
       " 'honor',\n",
       " 'hours',\n",
       " 'house',\n",
       " 'however',\n",
       " 'human',\n",
       " 'hundred',\n",
       " 'identify',\n",
       " 'image',\n",
       " 'immigration',\n",
       " 'impact',\n",
       " 'important',\n",
       " 'improve',\n",
       " 'improvement',\n",
       " 'include',\n",
       " 'income',\n",
       " 'increase',\n",
       " 'increasingly',\n",
       " 'independent',\n",
       " 'index',\n",
       " 'india',\n",
       " 'indian',\n",
       " 'indicate',\n",
       " 'indicator',\n",
       " 'indonesia',\n",
       " 'industrial',\n",
       " 'industry',\n",
       " 'inflation',\n",
       " 'information',\n",
       " 'infrastructure',\n",
       " 'initiative',\n",
       " 'innovation',\n",
       " 'inside',\n",
       " 'insider',\n",
       " 'instead',\n",
       " 'institute',\n",
       " 'intelligence',\n",
       " 'interest',\n",
       " 'international',\n",
       " 'internet',\n",
       " 'interview',\n",
       " 'introduce',\n",
       " 'investment',\n",
       " 'investor',\n",
       " 'involve',\n",
       " 'ireland',\n",
       " 'islamic',\n",
       " 'island',\n",
       " 'israel',\n",
       " 'israeli',\n",
       " 'issue',\n",
       " 'january',\n",
       " 'japan',\n",
       " 'japanese',\n",
       " 'jerusalem',\n",
       " 'jewish',\n",
       " 'joint',\n",
       " 'journalist',\n",
       " 'judge',\n",
       " 'justice',\n",
       " 'justin',\n",
       " 'keeping',\n",
       " 'keyboard',\n",
       " 'kingdom',\n",
       " 'korea',\n",
       " 'kuala',\n",
       " 'labor',\n",
       " 'labour',\n",
       " 'laptop',\n",
       " 'large',\n",
       " 'largely',\n",
       " 'later',\n",
       " 'latest',\n",
       " 'launch',\n",
       " 'lawmaker',\n",
       " 'leader',\n",
       " 'leaders',\n",
       " 'leadership',\n",
       " 'leading',\n",
       " 'learn',\n",
       " 'least',\n",
       " 'leave',\n",
       " 'leaving',\n",
       " 'legacy',\n",
       " 'legal',\n",
       " 'legislation',\n",
       " 'letter',\n",
       " 'level',\n",
       " 'liberation',\n",
       " 'likely',\n",
       " 'linkedin',\n",
       " 'linux',\n",
       " 'little',\n",
       " 'local',\n",
       " 'london',\n",
       " 'longer',\n",
       " 'looking',\n",
       " 'lower',\n",
       " 'lumia',\n",
       " 'lumpur',\n",
       " 'machine',\n",
       " 'mahmoud',\n",
       " 'maintain',\n",
       " 'major',\n",
       " 'majority',\n",
       " 'maker',\n",
       " 'making',\n",
       " 'malaysia',\n",
       " 'manage',\n",
       " 'management',\n",
       " 'manager',\n",
       " 'manufacturing',\n",
       " 'march',\n",
       " 'market',\n",
       " 'massive',\n",
       " 'matter',\n",
       " 'mayor',\n",
       " 'means',\n",
       " 'measure',\n",
       " 'medium',\n",
       " 'meeting',\n",
       " 'member',\n",
       " 'mention',\n",
       " 'message',\n",
       " 'michelle',\n",
       " 'michigan',\n",
       " 'microsoft',\n",
       " 'microsofts',\n",
       " 'middle',\n",
       " 'middot',\n",
       " 'might',\n",
       " 'military',\n",
       " 'million',\n",
       " 'minister',\n",
       " 'ministry',\n",
       " 'mobile',\n",
       " 'model',\n",
       " 'moment',\n",
       " 'momentum',\n",
       " 'monday',\n",
       " 'monetary',\n",
       " 'money',\n",
       " 'month',\n",
       " 'morning',\n",
       " 'moscow',\n",
       " 'mosque',\n",
       " 'movement',\n",
       " 'muslim',\n",
       " 'nadella',\n",
       " 'nasdaqmsft',\n",
       " 'nation',\n",
       " 'national',\n",
       " 'nearly',\n",
       " 'negative',\n",
       " 'network',\n",
       " 'never',\n",
       " 'nigeria',\n",
       " 'night',\n",
       " 'nominate',\n",
       " 'nomination',\n",
       " 'nominee',\n",
       " 'north',\n",
       " 'november',\n",
       " 'nuclear',\n",
       " 'number',\n",
       " 'numbers',\n",
       " 'obama',\n",
       " 'obamas',\n",
       " 'occupation',\n",
       " 'occupy',\n",
       " 'october',\n",
       " 'offer',\n",
       " 'offering',\n",
       " 'office',\n",
       " 'officer',\n",
       " 'official',\n",
       " 'officially',\n",
       " 'often',\n",
       " 'ongoing',\n",
       " 'online',\n",
       " 'opening',\n",
       " 'operate',\n",
       " 'opportunity',\n",
       " 'opposition',\n",
       " 'optimistic',\n",
       " 'option',\n",
       " 'order',\n",
       " 'organization',\n",
       " 'orlando',\n",
       " 'others',\n",
       " 'outlook',\n",
       " 'output',\n",
       " 'outside',\n",
       " 'overall',\n",
       " 'owner',\n",
       " 'palestine',\n",
       " 'palestinian',\n",
       " 'paris',\n",
       " 'parliament',\n",
       " 'particularly',\n",
       " 'partner',\n",
       " 'partnership',\n",
       " 'party',\n",
       " 'patch',\n",
       " 'peace',\n",
       " 'people',\n",
       " 'percent',\n",
       " 'performance',\n",
       " 'period',\n",
       " 'person',\n",
       " 'personal',\n",
       " 'phone',\n",
       " 'photo',\n",
       " 'picture',\n",
       " 'place',\n",
       " 'planning',\n",
       " 'platform',\n",
       " 'player',\n",
       " 'pledge',\n",
       " 'plunge',\n",
       " 'point',\n",
       " 'police',\n",
       " 'policy',\n",
       " 'political',\n",
       " 'politics',\n",
       " 'popular',\n",
       " 'position',\n",
       " 'positive',\n",
       " 'possible',\n",
       " 'potential',\n",
       " 'power',\n",
       " 'powerful',\n",
       " 'praise',\n",
       " 'predict',\n",
       " 'premier',\n",
       " 'prepare',\n",
       " 'present',\n",
       " 'presidency',\n",
       " 'president',\n",
       " 'presidential',\n",
       " 'press',\n",
       " 'pressure',\n",
       " 'presumptive',\n",
       " 'pretty',\n",
       " 'prevent',\n",
       " 'preview',\n",
       " 'previous',\n",
       " 'previously',\n",
       " 'price',\n",
       " 'primary',\n",
       " 'prime',\n",
       " 'priority',\n",
       " 'prison',\n",
       " 'private',\n",
       " 'probably',\n",
       " 'problem',\n",
       " 'process',\n",
       " 'produce',\n",
       " 'product',\n",
       " 'production',\n",
       " 'productivity',\n",
       " 'professional',\n",
       " 'program',\n",
       " 'progress',\n",
       " 'project',\n",
       " 'promise',\n",
       " 'promote',\n",
       " 'proposal',\n",
       " 'propose',\n",
       " 'prospect',\n",
       " 'protect',\n",
       " 'protection',\n",
       " 'provide',\n",
       " 'provider',\n",
       " 'public',\n",
       " 'publish',\n",
       " 'purchase',\n",
       " 'pushing',\n",
       " 'putin',\n",
       " 'quarter',\n",
       " 'quarterly',\n",
       " 'question',\n",
       " 'quickly',\n",
       " 'quite',\n",
       " 'quota',\n",
       " 'quoti',\n",
       " 'quotthe',\n",
       " 'quotwe',\n",
       " 'raise',\n",
       " 'raising',\n",
       " 'rally',\n",
       " 'ramallah',\n",
       " 'range',\n",
       " 'rates',\n",
       " 'rather',\n",
       " 'rating',\n",
       " 'reach',\n",
       " 'ready',\n",
       " 'reality',\n",
       " 'really',\n",
       " 'reason',\n",
       " 'rebound',\n",
       " 'receive',\n",
       " 'recent',\n",
       " 'recently',\n",
       " 'recession',\n",
       " 'recognize',\n",
       " 'record',\n",
       " 'recover',\n",
       " 'recovery',\n",
       " 'redmond',\n",
       " 'reduce',\n",
       " 'referendum',\n",
       " 'reflect',\n",
       " 'reform',\n",
       " 'refugee',\n",
       " 'refuse',\n",
       " 'regard',\n",
       " 'region',\n",
       " 'regional',\n",
       " 'regulation',\n",
       " 'relate',\n",
       " 'relations',\n",
       " 'relationship',\n",
       " 'release',\n",
       " 'remain',\n",
       " 'remains',\n",
       " 'remark',\n",
       " 'replace',\n",
       " 'report',\n",
       " 'reporter',\n",
       " 'represent',\n",
       " 'republican',\n",
       " 'request',\n",
       " 'require',\n",
       " 'research',\n",
       " 'researcher',\n",
       " 'reserve',\n",
       " 'resident',\n",
       " 'resolution',\n",
       " 'resource',\n",
       " 'respond',\n",
       " 'response',\n",
       " 'result',\n",
       " 'retail',\n",
       " 'return',\n",
       " 'reuters',\n",
       " 'reveal',\n",
       " 'revenue',\n",
       " 'review',\n",
       " 'revive',\n",
       " 'right',\n",
       " 'rising',\n",
       " 'rival',\n",
       " 'robust',\n",
       " 'round',\n",
       " 'running',\n",
       " 'russia',\n",
       " 'russian',\n",
       " 'sales',\n",
       " 'sanction',\n",
       " 'sander',\n",
       " 'saturday',\n",
       " 'satya',\n",
       " 'saudi',\n",
       " 'saying',\n",
       " 'scalia',\n",
       " 'schedule',\n",
       " 'school',\n",
       " 'science',\n",
       " 'search',\n",
       " 'season',\n",
       " 'second',\n",
       " 'secretary',\n",
       " 'sector',\n",
       " 'secure',\n",
       " 'security',\n",
       " 'seeking',\n",
       " 'select',\n",
       " 'senate',\n",
       " 'senator',\n",
       " 'senior',\n",
       " 'sense',\n",
       " 'sentence',\n",
       " 'september',\n",
       " 'series',\n",
       " 'serious',\n",
       " 'serve',\n",
       " 'server',\n",
       " 'service',\n",
       " 'services',\n",
       " 'session',\n",
       " 'seven',\n",
       " 'several',\n",
       " 'share',\n",
       " 'sharing',\n",
       " 'sharp',\n",
       " 'shift',\n",
       " 'shock',\n",
       " 'shooting',\n",
       " 'short',\n",
       " 'showing',\n",
       " 'shrink',\n",
       " 'signal',\n",
       " 'significant',\n",
       " 'similar',\n",
       " 'since',\n",
       " 'singapore',\n",
       " 'single',\n",
       " 'sitting',\n",
       " 'situation',\n",
       " 'skype',\n",
       " 'slightly',\n",
       " 'slowdown',\n",
       " 'slowing',\n",
       " 'sluggish',\n",
       " 'slump',\n",
       " 'small',\n",
       " 'smart',\n",
       " 'smartphone',\n",
       " 'socalled',\n",
       " 'social',\n",
       " 'society',\n",
       " 'software',\n",
       " 'solid',\n",
       " 'solidarity',\n",
       " 'solution',\n",
       " 'something',\n",
       " 'sound',\n",
       " 'source',\n",
       " 'south',\n",
       " 'southeast',\n",
       " 'space',\n",
       " 'speak',\n",
       " 'speaker',\n",
       " 'speaking',\n",
       " 'special',\n",
       " 'speech',\n",
       " 'spend',\n",
       " 'spending',\n",
       " 'spoke',\n",
       " 'spring',\n",
       " 'staff',\n",
       " 'stage',\n",
       " 'stand',\n",
       " 'standard',\n",
       " 'start',\n",
       " 'starting',\n",
       " 'startup',\n",
       " 'state',\n",
       " 'statement',\n",
       " 'statistics',\n",
       " 'steady',\n",
       " 'steps',\n",
       " 'still',\n",
       " 'stimulus',\n",
       " 'stock',\n",
       " 'stocks',\n",
       " 'storage',\n",
       " 'store',\n",
       " 'story',\n",
       " 'strategy',\n",
       " 'street',\n",
       " 'strength',\n",
       " 'strike',\n",
       " 'strong',\n",
       " 'struggle',\n",
       " 'student',\n",
       " 'studio',\n",
       " 'study',\n",
       " 'success',\n",
       " 'suffer',\n",
       " 'suggest',\n",
       " 'summer',\n",
       " 'summit',\n",
       " 'sunday',\n",
       " 'support',\n",
       " 'supporter',\n",
       " 'supreme',\n",
       " 'surface',\n",
       " 'surge',\n",
       " 'surprise',\n",
       " 'survey',\n",
       " 'syria',\n",
       " 'syrian',\n",
       " 'system',\n",
       " 'tablet',\n",
       " 'tackle',\n",
       " 'taking',\n",
       " 'talks',\n",
       " 'target',\n",
       " 'technology',\n",
       " 'terms',\n",
       " 'territory',\n",
       " 'terror',\n",
       " 'terrorism',\n",
       " 'terrorist',\n",
       " 'texas',\n",
       " 'thanks',\n",
       " 'thats',\n",
       " 'there',\n",
       " 'theyre',\n",
       " 'thing',\n",
       " 'things',\n",
       " 'think',\n",
       " 'third',\n",
       " 'though',\n",
       " 'thought',\n",
       " 'thousand',\n",
       " 'threat',\n",
       " 'threaten',\n",
       " 'three',\n",
       " 'throw',\n",
       " 'thursday',\n",
       " 'times',\n",
       " 'title',\n",
       " 'today',\n",
       " 'together',\n",
       " 'tokyo',\n",
       " 'total',\n",
       " 'tough',\n",
       " 'tourism',\n",
       " 'toward',\n",
       " 'towards',\n",
       " 'track',\n",
       " 'trade',\n",
       " 'trading',\n",
       " 'transgender',\n",
       " 'transition',\n",
       " 'travel',\n",
       " 'trend',\n",
       " 'trillion',\n",
       " 'trouble',\n",
       " 'trudeau',\n",
       " 'trump',\n",
       " 'tuesday',\n",
       " 'turkey',\n",
       " 'twitter',\n",
       " 'uncertainty',\n",
       " 'unemployment',\n",
       " 'union',\n",
       " 'unite',\n",
       " 'university',\n",
       " 'unveil',\n",
       " 'upcoming',\n",
       " 'update',\n",
       " 'upgrade',\n",
       " 'using',\n",
       " 'value',\n",
       " 'vehicle',\n",
       " 'version',\n",
       " 'victim',\n",
       " 'video',\n",
       " 'vietnam',\n",
       " 'violence',\n",
       " 'virtual',\n",
       " 'vision',\n",
       " 'visit',\n",
       " 'vladimir',\n",
       " 'voice',\n",
       " 'voter',\n",
       " 'warning',\n",
       " 'washington',\n",
       " 'watch',\n",
       " 'water',\n",
       " 'weakness',\n",
       " 'website',\n",
       " 'wednesday',\n",
       " 'weekend',\n",
       " 'weigh',\n",
       " 'welcome',\n",
       " 'whats',\n",
       " 'whether',\n",
       " 'white',\n",
       " 'whose',\n",
       " 'windows',\n",
       " 'within',\n",
       " 'without',\n",
       " 'woman',\n",
       " 'words',\n",
       " 'worker',\n",
       " 'working',\n",
       " 'works',\n",
       " 'world',\n",
       " 'worry',\n",
       " 'worst',\n",
       " 'worth',\n",
       " 'would',\n",
       " 'write',\n",
       " 'years',\n",
       " 'yellen',\n",
       " 'yesterday',\n",
       " 'young']"
      ]
     },
     "execution_count": 46,
     "metadata": {},
     "output_type": "execute_result"
    }
   ],
   "source": [
    "feature_names_vec2 = vectorizer2.get_feature_names()\n",
    "feature_names_vec2"
   ]
  },
  {
   "cell_type": "code",
   "execution_count": 47,
   "metadata": {},
   "outputs": [
    {
     "data": {
      "text/plain": [
       "NMF(alpha=0.1, beta_loss='frobenius', init='nndsvda', l1_ratio=0.5,\n",
       "  max_iter=200, n_components=4, random_state=0, shuffle=False, solver='mu',\n",
       "  tol=0.0001, verbose=0)"
      ]
     },
     "execution_count": 47,
     "metadata": {},
     "output_type": "execute_result"
    }
   ],
   "source": [
    "#EXERCISE 11\n",
    "nmf = sklearn.decomposition.NMF(\n",
    "    n_components=4,\n",
    "    init=\"nndsvda\",\n",
    "    solver=\"mu\",\n",
    "    beta_loss=\"frobenius\",\n",
    "    random_state=0, \n",
    "    alpha=0.1, \n",
    "    l1_ratio=0.5\n",
    ")\n",
    "nmf.fit(clean_vec2)\n"
   ]
  },
  {
   "cell_type": "code",
   "execution_count": 48,
   "metadata": {},
   "outputs": [],
   "source": [
    "W_df, H_df = get_topics(\n",
    "    mod=nmf,\n",
    "    vec=clean_vec2,\n",
    "    names=feature_names_vec2,\n",
    "    docs=raw,\n",
    "    ndocs=number_docs, \n",
    "    nwords=number_words\n",
    ")\n"
   ]
  },
  {
   "cell_type": "code",
   "execution_count": 49,
   "metadata": {},
   "outputs": [
    {
     "name": "stdout",
     "output_type": "stream",
     "text": [
      "                         Topic0              Topic1                Topic2  \\\n",
      "Word0           (0.0696, obama)   (0.0628, economy)   (0.0869, microsoft)   \n",
      "Word1       (0.0646, president)  (0.0212, economic)     (0.0305, windows)   \n",
      "Word2          (0.0484, barack)    (0.0179, growth)     (0.0196, company)   \n",
      "Word3      (0.0157, washington)    (0.0144, global)    (0.0162, announce)   \n",
      "Word4           (0.0149, house)     (0.0128, china)  (0.0124, microsofts)   \n",
      "Word5           (0.0144, white)   (0.0111, percent)      (0.0117, update)   \n",
      "Word6          (0.0127, obamas)     (0.0109, world)     (0.0105, release)   \n",
      "Word7           (0.0109, state)   (0.0097, quarter)         (0.01, today)   \n",
      "Word8  (0.0096, administration)    (0.0093, market)     (0.0096, surface)   \n",
      "Word9           (0.0081, first)   (0.0086, country)       (0.0085, cloud)   \n",
      "\n",
      "                        Topic3  \n",
      "Word0      (0.0881, palestine)  \n",
      "Word1    (0.0765, palestinian)  \n",
      "Word2        (0.0309, israeli)  \n",
      "Word3         (0.0279, israel)  \n",
      "Word4          (0.0171, state)  \n",
      "Word5  (0.0094, international)  \n",
      "Word6       (0.0092, ramallah)  \n",
      "Word7        (0.009, minister)  \n",
      "Word8          (0.0079, unite)  \n",
      "Word9          (0.0078, force)  \n"
     ]
    }
   ],
   "source": [
    "print(W_df)"
   ]
  },
  {
   "cell_type": "code",
   "execution_count": 50,
   "metadata": {},
   "outputs": [
    {
     "name": "stdout",
     "output_type": "stream",
     "text": [
      "                                                 Topic0  \\\n",
      "Doc0  (0.0845, President Obama met with gun control ...   \n",
      "Doc1  (0.0845, A makeshift racetrack in the Palestin...   \n",
      "Doc2  (0.0845, (CNN) \"\"\"Leaders gathered in Paris to...   \n",
      "Doc3  (0.0845, The Palestine community pulled togeth...   \n",
      "Doc4  (0.0845, U.S. Bank Senor Portfolio Manager Eri...   \n",
      "Doc5  (0.0845, The New York Times' Paul Krugman post...   \n",
      "Doc6  (0.0845, Negative Interest Rates Benefit Globa...   \n",
      "Doc7  (0.0845, America is emerging as a top tax have...   \n",
      "Doc8  (0.0845, AFP ISTANBUL (AFP-Jiji) \"\"\" Six suici...   \n",
      "Doc9  (0.0845, “The possibility of two states, Israe...   \n",
      "\n",
      "                                                 Topic1  \\\n",
      "Doc0  (0.0677, President Obama gave a somber denounc...   \n",
      "Doc1  (0.0677, &quot;The economy is doing reasonably...   \n",
      "Doc2  (0.0677, Both China's central bank and a respe...   \n",
      "Doc3  (0.0677, President Barack Obama, standing befo...   \n",
      "Doc4  (0.0677, The Palestinian narrative is rare and...   \n",
      "Doc5  (0.0677, Outlook Premium, the previously-revea...   \n",
      "Doc6  (0.0677, Boris Johnson has described Barack Ob...   \n",
      "Doc7  (0.0677, Obama is also trying to smooth relati...   \n",
      "Doc8  (0.0677, Economy growing despite 'costly' war ...   \n",
      "Doc9  (0.0677, Each year nearly $4 billion new dolla...   \n",
      "\n",
      "                                                 Topic2  \\\n",
      "Doc0  (0.0837, BEIJING \"\"\" As economic growth has fa...   \n",
      "Doc1  (0.0837, Obama Welcomes UConn Huskies for the ...   \n",
      "Doc2  (0.0837, A Canadian legal scholar appointed as...   \n",
      "Doc3  (0.0837, President Barack Obama issued a Thank...   \n",
      "Doc4  (0.0837, Korea's exports marked the worst slum...   \n",
      "Doc5  (0.0837, The removal of sanctions and increase...   \n",
      "Doc6  (0.0837, Speaking in Japan after a summit with...   \n",
      "Doc7  (0.0837, JEFFERSONVILLE, Ind. (WHAS11) -- A So...   \n",
      "Doc8  (0.0837, The Philippine economy will regain it...   \n",
      "Doc9  (0.0837, One person was shot and another detai...   \n",
      "\n",
      "                                                 Topic3  \n",
      "Doc0  (0.1077, It's both fascinating and ironic how ...  \n",
      "Doc1  (0.1077, It's been half a year since we propos...  \n",
      "Doc2  (0.0856, (Reuters) \"\"\" On Monday, U.S. Distric...  \n",
      "Doc3  (0.0852, Yeah, it seemed radical at the time\"\"...  \n",
      "Doc4  (0.0842, The gig economy tends to divide opini...  \n",
      "Doc5  (0.0828, President Barack Obama called Univers...  \n",
      "Doc6  (0.0815, And what better time to start than no...  \n",
      "Doc7  (0.0815, WASHINGTON (AP) \"\"\" He won't be on No...  \n",
      "Doc8  (0.0815, Find out what you need to know about ...  \n",
      "Doc9  (0.0815, Microsoft Corporation (NASDAQ:MSFT) h...  \n"
     ]
    }
   ],
   "source": [
    "print(H_df)"
   ]
  },
  {
   "cell_type": "code",
   "execution_count": 51,
   "metadata": {},
   "outputs": [
    {
     "name": "stdout",
     "output_type": "stream",
     "text": [
      "(92946, 4)\n",
      "[[5.12742730e-02 3.67760308e-15 3.15165465e-34 7.99371661e-16]\n",
      " [7.40642831e-04 2.04172716e-02 7.14505784e-15 2.12415656e-03]\n",
      " [2.96492663e-15 1.94111542e-02 4.39984935e-21 1.25002643e-18]\n",
      " ...\n",
      " [9.72679860e-06 3.40945454e-03 6.20351113e-04 3.23811713e-02]\n",
      " [6.43240789e-07 1.31067832e-07 3.46347825e-08 6.14454524e-02]\n",
      " [4.63909836e-05 1.18242467e-04 1.84376178e-02 2.00790554e-03]]\n"
     ]
    }
   ],
   "source": [
    "#EXERCISE 12\n",
    "nmf_transform = nmf.transform(clean_vec2)\n",
    "print(nmf_transform.shape)\n",
    "print(nmf_transform)"
   ]
  },
  {
   "cell_type": "code",
   "execution_count": 52,
   "metadata": {},
   "outputs": [
    {
     "name": "stdout",
     "output_type": "stream",
     "text": [
      "LENGTH:\n",
      "92946\n",
      "\n",
      "COUNTS:\n",
      "[[    0 28973]\n",
      " [    1 32947]\n",
      " [    2 22148]\n",
      " [    3  8878]]\n",
      "\n"
     ]
    },
    {
     "data": {
      "image/png": "[encoded data removed]",
      "text/plain": [
       "<Figure size 432x288 with 1 Axes>"
      ]
     },
     "metadata": {
      "needs_background": "light"
     },
     "output_type": "display_data"
    }
   ],
   "source": [
    "plot_tsne(data=nmf_transform, threshold=0)"
   ]
  },
  {
   "cell_type": "code",
   "execution_count": null,
   "metadata": {},
   "outputs": [],
   "source": []
  }
 ],
 "metadata": {
  "kernelspec": {
   "display_name": "Python 3",
   "language": "python",
   "name": "python3"
  },
  "language_info": {
   "codemirror_mode": {
    "name": "ipython",
    "version": 3
   },
   "file_extension": ".py",
   "mimetype": "text/x-python",
   "name": "python",
   "nbconvert_exporter": "python",
   "pygments_lexer": "ipython3",
   "version": "3.6.8"
  }
 },
 "nbformat": 4,
 "nbformat_minor": 2
}
