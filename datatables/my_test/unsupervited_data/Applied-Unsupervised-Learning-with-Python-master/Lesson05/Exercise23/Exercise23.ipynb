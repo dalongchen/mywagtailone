{
 "cells": [
  {
   "cell_type": "markdown",
   "metadata": {},
   "source": [
    "# Exercise 6 - Convolutional Autoencoder\n",
    "\n",
    "In this exercise we will construct a convolutional autoencoder for the sample of the CIFAR-10 dataset.\n",
    "\n",
    "Import pickle, numpy, matplotlib as well as the *Model* class from **keras.models** and *Input* and *Conv2D*, *MaxPooling2D* and *UpSampling2D* from **keras.layers**."
   ]
  },
  {
   "cell_type": "code",
   "execution_count": 1,
   "metadata": {},
   "outputs": [
    {
     "name": "stderr",
     "output_type": "stream",
     "text": [
      "Using TensorFlow backend.\n"
     ]
    }
   ],
   "source": [
    "import pickle\n",
    "import numpy as np\n",
    "import matplotlib.pyplot as plt\n",
    "from keras.models import Model\n",
    "from keras.layers import Input, Conv2D, MaxPooling2D, UpSampling2D"
   ]
  },
  {
   "cell_type": "markdown",
   "metadata": {},
   "source": [
    "Load the data"
   ]
  },
  {
   "cell_type": "code",
   "execution_count": 2,
   "metadata": {},
   "outputs": [],
   "source": [
    "with open('data_batch_1', 'rb') as f:\n",
    "    dat = pickle.load(f, encoding='bytes')"
   ]
  },
  {
   "cell_type": "markdown",
   "metadata": {},
   "source": [
    "As this is an unsupervised learning method, we are only interested in the image data.  Load the image data as per the previous exercise."
   ]
  },
  {
   "cell_type": "code",
   "execution_count": 3,
   "metadata": {},
   "outputs": [],
   "source": [
    "images = np.zeros((10000, 32, 32, 3), dtype='uint8')\n",
    "\n",
    "for idx, img in enumerate(dat[b'data']):\n",
    "    images[idx, :, :, 0] = img[:1024].reshape((32, 32)) # Red\n",
    "    images[idx, :, :, 1] = img[1024:2048].reshape((32, 32)) # Green\n",
    "    images[idx, :, :, 2] = img[2048:].reshape((32, 32)) # Blue"
   ]
  },
  {
   "cell_type": "markdown",
   "metadata": {},
   "source": [
    "As we are using a convolutional network we can use the images with only rescaling."
   ]
  },
  {
   "cell_type": "code",
   "execution_count": 4,
   "metadata": {},
   "outputs": [],
   "source": [
    "images = images / 255."
   ]
  },
  {
   "cell_type": "markdown",
   "metadata": {},
   "source": [
    "Define the convolutional autoencoder model.  We will use the same shape input as an image."
   ]
  },
  {
   "cell_type": "code",
   "execution_count": 5,
   "metadata": {},
   "outputs": [],
   "source": [
    "input_layer = Input(shape=(32, 32, 3,))"
   ]
  },
  {
   "cell_type": "markdown",
   "metadata": {},
   "source": [
    "Add a convolutional stage, with 32 layers or filters, a 3 x 3 weight matrix, a ReLU activation function and using **same** padding which means the output has the same length as the input image."
   ]
  },
  {
   "cell_type": "code",
   "execution_count": 6,
   "metadata": {},
   "outputs": [
    {
     "name": "stdout",
     "output_type": "stream",
     "text": [
      "WARNING:tensorflow:From /home/ben/envs/packt/lib/python3.7/site-packages/tensorflow/python/framework/op_def_library.py:263: colocate_with (from tensorflow.python.framework.ops) is deprecated and will be removed in a future version.\n",
      "Instructions for updating:\n",
      "Colocations handled automatically by placer.\n"
     ]
    }
   ],
   "source": [
    "hidden_encoding = Conv2D(\n",
    "    32, # Number of layers or filters in the weight matrix\n",
    "    (3, 3), # Shape of the weight matrix\n",
    "    activation='relu',\n",
    "    padding='same', # How to apply the weights to the images\n",
    ")(input_layer)"
   ]
  },
  {
   "cell_type": "markdown",
   "metadata": {},
   "source": [
    "Add a max pooling layer to the encoder with a 2 x 2 kernel.  Max Pooling looks at all the values in an image, scanning through with a 2 x 2 matrix.  The maximum value in each 2 x 2 area is returned, thus reducing the size of the encoded layer by a half."
   ]
  },
  {
   "cell_type": "code",
   "execution_count": 7,
   "metadata": {},
   "outputs": [],
   "source": [
    "encoded = MaxPooling2D((2, 2))(hidden_encoding)"
   ]
  },
  {
   "cell_type": "markdown",
   "metadata": {},
   "source": [
    "Add a decoding convolutional layer"
   ]
  },
  {
   "cell_type": "code",
   "execution_count": 8,
   "metadata": {},
   "outputs": [],
   "source": [
    "hidden_decoding = Conv2D(\n",
    "    32, # Number of layers or filters in the weight matrix\n",
    "    (3, 3), # Shape of the weight matrix\n",
    "    activation='relu',\n",
    "    padding='same', # How to apply the weights to the images\n",
    ")(encoded)"
   ]
  },
  {
   "cell_type": "markdown",
   "metadata": {},
   "source": [
    "Now we need to return the image to its original size, for this we will upsample by the same size as Max Pooling."
   ]
  },
  {
   "cell_type": "code",
   "execution_count": 9,
   "metadata": {},
   "outputs": [],
   "source": [
    "upsample_decoding = UpSampling2D((2, 2))(hidden_decoding)"
   ]
  },
  {
   "cell_type": "markdown",
   "metadata": {},
   "source": [
    "Add the final convolutional stage, using 3 layers for the RGB channels of the images."
   ]
  },
  {
   "cell_type": "code",
   "execution_count": 10,
   "metadata": {},
   "outputs": [],
   "source": [
    "decoded = Conv2D(\n",
    "    3, # Number of layers or filters in the weight matrix\n",
    "    (3, 3), # Shape of the weight matrix\n",
    "    activation='sigmoid',\n",
    "    padding='same', # How to apply the weights to the images\n",
    ")(upsample_decoding)"
   ]
  },
  {
   "cell_type": "markdown",
   "metadata": {},
   "source": [
    "Construct the model by passing the first and last layers of the network to the Model class."
   ]
  },
  {
   "cell_type": "code",
   "execution_count": 11,
   "metadata": {},
   "outputs": [],
   "source": [
    "autoencoder = Model(input_layer, decoded)"
   ]
  },
  {
   "cell_type": "markdown",
   "metadata": {},
   "source": [
    "Display the structure of the model"
   ]
  },
  {
   "cell_type": "code",
   "execution_count": 12,
   "metadata": {},
   "outputs": [
    {
     "name": "stdout",
     "output_type": "stream",
     "text": [
      "_________________________________________________________________\n",
      "Layer (type)                 Output Shape              Param #   \n",
      "=================================================================\n",
      "input_1 (InputLayer)         (None, 32, 32, 3)         0         \n",
      "_________________________________________________________________\n",
      "conv2d_1 (Conv2D)            (None, 32, 32, 32)        896       \n",
      "_________________________________________________________________\n",
      "max_pooling2d_1 (MaxPooling2 (None, 16, 16, 32)        0         \n",
      "_________________________________________________________________\n",
      "conv2d_2 (Conv2D)            (None, 16, 16, 32)        9248      \n",
      "_________________________________________________________________\n",
      "up_sampling2d_1 (UpSampling2 (None, 32, 32, 32)        0         \n",
      "_________________________________________________________________\n",
      "conv2d_3 (Conv2D)            (None, 32, 32, 3)         867       \n",
      "=================================================================\n",
      "Total params: 11,011\n",
      "Trainable params: 11,011\n",
      "Non-trainable params: 0\n",
      "_________________________________________________________________\n"
     ]
    }
   ],
   "source": [
    "autoencoder.summary()"
   ]
  },
  {
   "cell_type": "markdown",
   "metadata": {},
   "source": [
    "Compile the autoencoder using a binary cross entropy loss function and adadelta gradient descent."
   ]
  },
  {
   "cell_type": "code",
   "execution_count": 13,
   "metadata": {},
   "outputs": [],
   "source": [
    "autoencoder.compile(loss='binary_crossentropy',\n",
    "              optimizer='adadelta')"
   ]
  },
  {
   "cell_type": "markdown",
   "metadata": {},
   "source": [
    "Now let's fit the model, again we pass the images as the training data and as the desired output.  Train for 20 epochs as convolutional networks take a lot longer to compute."
   ]
  },
  {
   "cell_type": "code",
   "execution_count": 14,
   "metadata": {},
   "outputs": [
    {
     "name": "stdout",
     "output_type": "stream",
     "text": [
      "WARNING:tensorflow:From /home/ben/envs/packt/lib/python3.7/site-packages/tensorflow/python/ops/math_ops.py:3066: to_int32 (from tensorflow.python.ops.math_ops) is deprecated and will be removed in a future version.\n",
      "Instructions for updating:\n",
      "Use tf.cast instead.\n",
      "Epoch 1/20\n",
      "10000/10000 [==============================] - 21s 2ms/step - loss: 0.5934\n",
      "Epoch 2/20\n",
      "10000/10000 [==============================] - 21s 2ms/step - loss: 0.5687\n",
      "Epoch 3/20\n",
      "10000/10000 [==============================] - 22s 2ms/step - loss: 0.5633\n",
      "Epoch 4/20\n",
      "10000/10000 [==============================] - 21s 2ms/step - loss: 0.5602\n",
      "Epoch 5/20\n",
      "10000/10000 [==============================] - 21s 2ms/step - loss: 0.5590: 0s - loss: 0\n",
      "Epoch 6/20\n",
      "10000/10000 [==============================] - 21s 2ms/step - loss: 0.5581\n",
      "Epoch 7/20\n",
      "10000/10000 [==============================] - 21s 2ms/step - loss: 0.5578\n",
      "Epoch 8/20\n",
      "10000/10000 [==============================] - 21s 2ms/step - loss: 0.5572\n",
      "Epoch 9/20\n",
      "10000/10000 [==============================] - 21s 2ms/step - loss: 0.5566\n",
      "Epoch 10/20\n",
      "10000/10000 [==============================] - 21s 2ms/step - loss: 0.5557\n",
      "Epoch 11/20\n",
      "10000/10000 [==============================] - 21s 2ms/step - loss: 0.5553\n",
      "Epoch 12/20\n",
      "10000/10000 [==============================] - 21s 2ms/step - loss: 0.5552\n",
      "Epoch 13/20\n",
      "10000/10000 [==============================] - 21s 2ms/step - loss: 0.5551\n",
      "Epoch 14/20\n",
      "10000/10000 [==============================] - 22s 2ms/step - loss: 0.5543\n",
      "Epoch 15/20\n",
      "10000/10000 [==============================] - 22s 2ms/step - loss: 0.5544\n",
      "Epoch 16/20\n",
      "10000/10000 [==============================] - 22s 2ms/step - loss: 0.5548\n",
      "Epoch 17/20\n",
      "10000/10000 [==============================] - 22s 2ms/step - loss: 0.5541\n",
      "Epoch 18/20\n",
      "10000/10000 [==============================] - 22s 2ms/step - loss: 0.5539\n",
      "Epoch 19/20\n",
      "10000/10000 [==============================] - 22s 2ms/step - loss: 0.5538\n",
      "Epoch 20/20\n",
      "10000/10000 [==============================] - 22s 2ms/step - loss: 0.5539\n"
     ]
    },
    {
     "data": {
      "text/plain": [
       "<keras.callbacks.History at 0x7f8bf9b77208>"
      ]
     },
     "execution_count": 14,
     "metadata": {},
     "output_type": "execute_result"
    }
   ],
   "source": [
    "autoencoder.fit(images, images, epochs=20)"
   ]
  },
  {
   "cell_type": "markdown",
   "metadata": {},
   "source": [
    "Calculate and store the output of the encoding stage for the first 5 samples."
   ]
  },
  {
   "cell_type": "code",
   "execution_count": 23,
   "metadata": {},
   "outputs": [],
   "source": [
    "encoder_output = Model(input_layer, encoded).predict(images[:5])"
   ]
  },
  {
   "cell_type": "markdown",
   "metadata": {},
   "source": [
    "Each encoded image has a shape of 16 x 16 x 32 due to the number of filters selected for the convolutional stage.  As such we cannot visualise them without modification.  We will reshape them to be 256 x 32 in size for visualisation."
   ]
  },
  {
   "cell_type": "code",
   "execution_count": 24,
   "metadata": {},
   "outputs": [],
   "source": [
    "encoder_output = encoder_output.reshape((-1, 256, 32))"
   ]
  },
  {
   "cell_type": "markdown",
   "metadata": {},
   "source": [
    "Get the output of the decoder for the 5 images"
   ]
  },
  {
   "cell_type": "code",
   "execution_count": 25,
   "metadata": {},
   "outputs": [],
   "source": [
    "decoder_output = autoencoder.predict(images[:5])"
   ]
  },
  {
   "cell_type": "markdown",
   "metadata": {},
   "source": [
    "Plot the original image, the mean encoder output and the decoder."
   ]
  },
  {
   "cell_type": "code",
   "execution_count": 27,
   "metadata": {},
   "outputs": [
    {
     "data": {
      "image/png": "[encoded data removed]",
      "text/plain": [
       "<Figure size 720x504 with 15 Axes>"
      ]
     },
     "metadata": {
      "needs_background": "light"
     },
     "output_type": "display_data"
    }
   ],
   "source": [
    "plt.figure(figsize=(10, 7))\n",
    "for i in range(5):\n",
    "    plt.subplot(3, 5, i + 1)\n",
    "    plt.imshow(images[i], cmap='gray')\n",
    "    plt.axis('off')\n",
    "    \n",
    "    plt.subplot(3, 5, i + 6)\n",
    "    plt.imshow(encoder_output[i], cmap='gray')\n",
    "    plt.axis('off')   \n",
    "    \n",
    "    plt.subplot(3, 5, i + 11)\n",
    "    plt.imshow(decoder_output[i])\n",
    "    plt.axis('off')        "
   ]
  }
 ],
 "metadata": {
  "kernelspec": {
   "display_name": "Python 3",
   "language": "python",
   "name": "python3"
  },
  "language_info": {
   "codemirror_mode": {
    "name": "ipython",
    "version": 3
   },
   "file_extension": ".py",
   "mimetype": "text/x-python",
   "name": "python",
   "nbconvert_exporter": "python",
   "pygments_lexer": "ipython3",
   "version": "3.7.1"
  }
 },
 "nbformat": 4,
 "nbformat_minor": 2
}
