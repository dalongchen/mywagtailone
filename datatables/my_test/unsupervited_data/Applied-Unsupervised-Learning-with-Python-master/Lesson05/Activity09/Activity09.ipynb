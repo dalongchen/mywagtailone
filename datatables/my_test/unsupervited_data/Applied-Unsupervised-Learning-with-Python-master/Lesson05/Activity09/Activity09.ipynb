{
 "cells": [
  {
   "cell_type": "markdown",
   "metadata": {},
   "source": [
    "# Activity 2 - MNIST Neural Network (Instructor Version)\n",
    "\n",
    "In this activity you will train a neural network to identify images in the MNIST dataset and reinforce your skills in training neural networks.\n",
    "\n",
    "Import pickle, numpy, matplotlib and the Sequential and Dense classes from keras."
   ]
  },
  {
   "cell_type": "code",
   "execution_count": 1,
   "metadata": {},
   "outputs": [
    {
     "name": "stderr",
     "output_type": "stream",
     "text": [
      "Using TensorFlow backend.\n"
     ]
    }
   ],
   "source": [
    "import pickle\n",
    "import numpy as np\n",
    "import matplotlib.pyplot as plt\n",
    "from keras.models import Sequential\n",
    "from keras.layers import Dense"
   ]
  },
  {
   "cell_type": "markdown",
   "metadata": {},
   "source": [
    "Load the mnist.pkl file which contains the first 10 000 images and corresponding labels from the MNIST dataset (http://yann.lecun.com/exdb/mnist/).  The MNIST dataset is a series of 28 x 28 grayscale images of hand written digits 0 through 9.  Extract the images and labels."
   ]
  },
  {
   "cell_type": "code",
   "execution_count": 2,
   "metadata": {},
   "outputs": [],
   "source": [
    "with open('mnist.pkl', 'rb') as f:\n",
    "    data = pickle.load(f)\n",
    "    \n",
    "images = data['images']\n",
    "labels = data['labels']"
   ]
  },
  {
   "cell_type": "markdown",
   "metadata": {},
   "source": [
    "Plot the first 10 samples along with the corresponding labels."
   ]
  },
  {
   "cell_type": "code",
   "execution_count": 3,
   "metadata": {},
   "outputs": [
    {
     "data": {
      "image/png": "[encoded data removed]",
      "text/plain": [
       "<Figure size 720x504 with 10 Axes>"
      ]
     },
     "metadata": {
      "needs_background": "light"
     },
     "output_type": "display_data"
    }
   ],
   "source": [
    "plt.figure(figsize=(10, 7))\n",
    "for i in range(10):\n",
    "    plt.subplot(2, 5, i + 1)\n",
    "    plt.imshow(images[i], cmap='gray')\n",
    "    plt.title(labels[i])\n",
    "    plt.axis('off')"
   ]
  },
  {
   "cell_type": "markdown",
   "metadata": {},
   "source": [
    "Encode the labels using **one hot encoding**"
   ]
  },
  {
   "cell_type": "code",
   "execution_count": 4,
   "metadata": {},
   "outputs": [
    {
     "data": {
      "text/plain": [
       "array([[0., 0., 0., ..., 0., 0., 0.],\n",
       "       [1., 0., 0., ..., 0., 0., 0.],\n",
       "       [0., 0., 0., ..., 0., 0., 0.],\n",
       "       ...,\n",
       "       [0., 0., 0., ..., 0., 0., 0.],\n",
       "       [0., 0., 0., ..., 0., 0., 1.],\n",
       "       [0., 0., 0., ..., 1., 0., 0.]])"
      ]
     },
     "execution_count": 4,
     "metadata": {},
     "output_type": "execute_result"
    }
   ],
   "source": [
    "one_hot_labels = np.zeros((images.shape[0], 10))\n",
    "\n",
    "for idx, label in enumerate(labels):\n",
    "    one_hot_labels[idx, label] = 1\n",
    "    \n",
    "one_hot_labels"
   ]
  },
  {
   "cell_type": "markdown",
   "metadata": {},
   "source": [
    "Prepare the images for input into a neural network.  As a hint there are **two** separate steps in this process."
   ]
  },
  {
   "cell_type": "code",
   "execution_count": 5,
   "metadata": {},
   "outputs": [],
   "source": [
    "images = images.reshape((-1, 28 ** 2))\n",
    "images = images / 255."
   ]
  },
  {
   "cell_type": "markdown",
   "metadata": {},
   "source": [
    "Construct a neural network model in Keras that accepts the prepared images, has a hidden layer of 600 units with a ReLU activation function and an output of the same number of units as classes.  The output layer uses a softmax activation function."
   ]
  },
  {
   "cell_type": "code",
   "execution_count": 6,
   "metadata": {},
   "outputs": [
    {
     "name": "stdout",
     "output_type": "stream",
     "text": [
      "WARNING:tensorflow:From /home/ben/envs/packt/lib/python3.7/site-packages/tensorflow/python/framework/op_def_library.py:263: colocate_with (from tensorflow.python.framework.ops) is deprecated and will be removed in a future version.\n",
      "Instructions for updating:\n",
      "Colocations handled automatically by placer.\n"
     ]
    }
   ],
   "source": [
    "model = Sequential([\n",
    "    Dense(600, input_shape=(784,), activation='relu'),\n",
    "    Dense(10, activation='softmax'),\n",
    "])"
   ]
  },
  {
   "cell_type": "markdown",
   "metadata": {},
   "source": [
    "Compile the model using multi class cross entropy, stochastic gradient descent and an accuracy performance metric."
   ]
  },
  {
   "cell_type": "code",
   "execution_count": 7,
   "metadata": {},
   "outputs": [],
   "source": [
    "model.compile(loss='categorical_crossentropy',\n",
    "              optimizer='sgd',\n",
    "              metrics=['accuracy'])"
   ]
  },
  {
   "cell_type": "markdown",
   "metadata": {},
   "source": [
    "Train the model.  How many epochs are required to achieve at least 95% classification accuracy on the training data?"
   ]
  },
  {
   "cell_type": "code",
   "execution_count": 10,
   "metadata": {
    "scrolled": true
   },
   "outputs": [
    {
     "name": "stdout",
     "output_type": "stream",
     "text": [
      "Epoch 1/20\n",
      "10000/10000 [==============================] - 2s 159us/step - loss: 0.2691 - acc: 0.9289\n",
      "Epoch 2/20\n",
      "10000/10000 [==============================] - 2s 152us/step - loss: 0.2595 - acc: 0.9317\n",
      "Epoch 3/20\n",
      "10000/10000 [==============================] - 2s 153us/step - loss: 0.2512 - acc: 0.9341\n",
      "Epoch 4/20\n",
      "10000/10000 [==============================] - 2s 151us/step - loss: 0.2438 - acc: 0.9364\n",
      "Epoch 5/20\n",
      "10000/10000 [==============================] - 2s 155us/step - loss: 0.2366 - acc: 0.9373\n",
      "Epoch 6/20\n",
      "10000/10000 [==============================] - 2s 152us/step - loss: 0.2296 - acc: 0.9393\n",
      "Epoch 7/20\n",
      "10000/10000 [==============================] - 2s 152us/step - loss: 0.2236 - acc: 0.9409\n",
      "Epoch 8/20\n",
      "10000/10000 [==============================] - 2s 154us/step - loss: 0.2175 - acc: 0.9412\n",
      "Epoch 9/20\n",
      "10000/10000 [==============================] - 2s 151us/step - loss: 0.2119 - acc: 0.9439\n",
      "Epoch 10/20\n",
      "10000/10000 [==============================] - 2s 153us/step - loss: 0.2065 - acc: 0.9454\n",
      "Epoch 11/20\n",
      "10000/10000 [==============================] - 2s 154us/step - loss: 0.2018 - acc: 0.9450\n",
      "Epoch 12/20\n",
      "10000/10000 [==============================] - 2s 152us/step - loss: 0.1963 - acc: 0.9471\n",
      "Epoch 13/20\n",
      "10000/10000 [==============================] - 2s 157us/step - loss: 0.1921 - acc: 0.9479\n",
      "Epoch 14/20\n",
      "10000/10000 [==============================] - 2s 173us/step - loss: 0.1877 - acc: 0.9487\n",
      "Epoch 15/20\n",
      "10000/10000 [==============================] - 2s 157us/step - loss: 0.1836 - acc: 0.9507\n",
      "Epoch 16/20\n",
      "10000/10000 [==============================] - 2s 156us/step - loss: 0.1791 - acc: 0.9522\n",
      "Epoch 17/20\n",
      "10000/10000 [==============================] - 2s 157us/step - loss: 0.1754 - acc: 0.9532\n",
      "Epoch 18/20\n",
      "10000/10000 [==============================] - 2s 158us/step - loss: 0.1714 - acc: 0.9538\n",
      "Epoch 19/20\n",
      "10000/10000 [==============================] - 2s 156us/step - loss: 0.1681 - acc: 0.9544\n",
      "Epoch 20/20\n",
      "10000/10000 [==============================] - 2s 160us/step - loss: 0.1638 - acc: 0.9559\n"
     ]
    },
    {
     "data": {
      "text/plain": [
       "<keras.callbacks.History at 0x7f60f7011f60>"
      ]
     },
     "execution_count": 10,
     "metadata": {},
     "output_type": "execute_result"
    }
   ],
   "source": [
    "model.fit(images, one_hot_labels, epochs=20)"
   ]
  },
  {
   "cell_type": "markdown",
   "metadata": {},
   "source": [
    "15 epochs are required to achieve at least 95% classification accuracy on the training set."
   ]
  }
 ],
 "metadata": {
  "kernelspec": {
   "display_name": "Python 3",
   "language": "python",
   "name": "python3"
  },
  "language_info": {
   "codemirror_mode": {
    "name": "ipython",
    "version": 3
   },
   "file_extension": ".py",
   "mimetype": "text/x-python",
   "name": "python",
   "nbconvert_exporter": "python",
   "pygments_lexer": "ipython3",
   "version": "3.7.1"
  }
 },
 "nbformat": 4,
 "nbformat_minor": 2
}
