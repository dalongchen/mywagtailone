{
 "cells": [
  {
   "cell_type": "markdown",
   "metadata": {},
   "source": [
    "# Activity 3 - MNIST Autoencoder (Instructor Version)\n",
    "\n",
    "In this activity you will create an autoencoder network for the MNIST dataset.\n",
    "\n",
    "Import pickle, numpy, matplotlib and the Model, Input and Dense classes from keras."
   ]
  },
  {
   "cell_type": "code",
   "execution_count": 1,
   "metadata": {},
   "outputs": [
    {
     "name": "stderr",
     "output_type": "stream",
     "text": [
      "Using TensorFlow backend.\n"
     ]
    }
   ],
   "source": [
    "import pickle\n",
    "import numpy as np\n",
    "import matplotlib.pyplot as plt\n",
    "from keras.models import Model\n",
    "from keras.layers import Input, Dense"
   ]
  },
  {
   "cell_type": "markdown",
   "metadata": {},
   "source": [
    "Load the images from the supplied sample of the MNIST dataset"
   ]
  },
  {
   "cell_type": "code",
   "execution_count": 2,
   "metadata": {},
   "outputs": [],
   "source": [
    "with open('mnist.pkl', 'rb') as f:\n",
    "    images = pickle.load(f)['images']"
   ]
  },
  {
   "cell_type": "markdown",
   "metadata": {},
   "source": [
    "Prepare the images for input into a neural network.  As a hint there are **two** separate steps in this process."
   ]
  },
  {
   "cell_type": "code",
   "execution_count": 3,
   "metadata": {},
   "outputs": [],
   "source": [
    "images = images.reshape((-1, 28 ** 2))\n",
    "images = images / 255."
   ]
  },
  {
   "cell_type": "markdown",
   "metadata": {},
   "source": [
    "Construct a simple autoencoder network that reduces the image size to 10 x 10 after the encoding stage."
   ]
  },
  {
   "cell_type": "code",
   "execution_count": 5,
   "metadata": {},
   "outputs": [
    {
     "name": "stdout",
     "output_type": "stream",
     "text": [
      "WARNING:tensorflow:From /home/ben/envs/packt/lib/python3.7/site-packages/tensorflow/python/framework/op_def_library.py:263: colocate_with (from tensorflow.python.framework.ops) is deprecated and will be removed in a future version.\n",
      "Instructions for updating:\n",
      "Colocations handled automatically by placer.\n"
     ]
    }
   ],
   "source": [
    "input_stage = Input(shape=(784,))\n",
    "encoding_stage = Dense(100, activation='relu')(input_stage)\n",
    "decoding_stage = Dense(784, activation='sigmoid')(encoding_stage)\n",
    "autoencoder = Model(input_stage, decoding_stage)"
   ]
  },
  {
   "cell_type": "markdown",
   "metadata": {},
   "source": [
    "Compile the autoencoder using a binary cross entropy loss function and adadelta gradient descent."
   ]
  },
  {
   "cell_type": "code",
   "execution_count": 6,
   "metadata": {},
   "outputs": [],
   "source": [
    "autoencoder.compile(loss='binary_crossentropy',\n",
    "              optimizer='adadelta')"
   ]
  },
  {
   "cell_type": "markdown",
   "metadata": {},
   "source": [
    "Fit the encoder model"
   ]
  },
  {
   "cell_type": "code",
   "execution_count": 7,
   "metadata": {},
   "outputs": [
    {
     "name": "stdout",
     "output_type": "stream",
     "text": [
      "WARNING:tensorflow:From /home/ben/envs/packt/lib/python3.7/site-packages/tensorflow/python/ops/math_ops.py:3066: to_int32 (from tensorflow.python.ops.math_ops) is deprecated and will be removed in a future version.\n",
      "Instructions for updating:\n",
      "Use tf.cast instead.\n",
      "Epoch 1/100\n",
      "10000/10000 [==============================] - 2s 158us/step - loss: 0.3191\n",
      "Epoch 2/100\n",
      "10000/10000 [==============================] - 1s 132us/step - loss: 0.2352\n",
      "Epoch 3/100\n",
      "10000/10000 [==============================] - 1s 130us/step - loss: 0.2054\n",
      "Epoch 4/100\n",
      "10000/10000 [==============================] - 1s 132us/step - loss: 0.1867\n",
      "Epoch 5/100\n",
      "10000/10000 [==============================] - 1s 144us/step - loss: 0.1739\n",
      "Epoch 6/100\n",
      "10000/10000 [==============================] - 1s 131us/step - loss: 0.1641\n",
      "Epoch 7/100\n",
      "10000/10000 [==============================] - 2s 157us/step - loss: 0.1561\n",
      "Epoch 8/100\n",
      "10000/10000 [==============================] - 1s 147us/step - loss: 0.1492\n",
      "Epoch 9/100\n",
      "10000/10000 [==============================] - 1s 137us/step - loss: 0.1432\n",
      "Epoch 10/100\n",
      "10000/10000 [==============================] - 1s 117us/step - loss: 0.1379\n",
      "Epoch 11/100\n",
      "10000/10000 [==============================] - 1s 123us/step - loss: 0.1332\n",
      "Epoch 12/100\n",
      "10000/10000 [==============================] - 1s 123us/step - loss: 0.1291\n",
      "Epoch 13/100\n",
      "10000/10000 [==============================] - 1s 119us/step - loss: 0.1253\n",
      "Epoch 14/100\n",
      "10000/10000 [==============================] - 1s 122us/step - loss: 0.1219\n",
      "Epoch 15/100\n",
      "10000/10000 [==============================] - 1s 116us/step - loss: 0.1187\n",
      "Epoch 16/100\n",
      "10000/10000 [==============================] - 1s 127us/step - loss: 0.1158\n",
      "Epoch 17/100\n",
      "10000/10000 [==============================] - 2s 163us/step - loss: 0.1131\n",
      "Epoch 18/100\n",
      "10000/10000 [==============================] - 1s 141us/step - loss: 0.1107\n",
      "Epoch 19/100\n",
      "10000/10000 [==============================] - 1s 143us/step - loss: 0.1084\n",
      "Epoch 20/100\n",
      "10000/10000 [==============================] - 2s 152us/step - loss: 0.1063\n",
      "Epoch 21/100\n",
      "10000/10000 [==============================] - 1s 136us/step - loss: 0.1044\n",
      "Epoch 22/100\n",
      "10000/10000 [==============================] - 1s 140us/step - loss: 0.1027\n",
      "Epoch 23/100\n",
      "10000/10000 [==============================] - 1s 137us/step - loss: 0.1011\n",
      "Epoch 24/100\n",
      "10000/10000 [==============================] - 2s 158us/step - loss: 0.0997\n",
      "Epoch 25/100\n",
      "10000/10000 [==============================] - 1s 116us/step - loss: 0.0984\n",
      "Epoch 26/100\n",
      "10000/10000 [==============================] - 1s 114us/step - loss: 0.0971\n",
      "Epoch 27/100\n",
      "10000/10000 [==============================] - 1s 121us/step - loss: 0.0960\n",
      "Epoch 28/100\n",
      "10000/10000 [==============================] - 1s 133us/step - loss: 0.0950\n",
      "Epoch 29/100\n",
      "10000/10000 [==============================] - 1s 121us/step - loss: 0.0941\n",
      "Epoch 30/100\n",
      "10000/10000 [==============================] - 2s 159us/step - loss: 0.0932\n",
      "Epoch 31/100\n",
      "10000/10000 [==============================] - 2s 162us/step - loss: 0.0924\n",
      "Epoch 32/100\n",
      "10000/10000 [==============================] - 1s 146us/step - loss: 0.0916\n",
      "Epoch 33/100\n",
      "10000/10000 [==============================] - 1s 147us/step - loss: 0.0909\n",
      "Epoch 34/100\n",
      "10000/10000 [==============================] - 2s 165us/step - loss: 0.0902\n",
      "Epoch 35/100\n",
      "10000/10000 [==============================] - 1s 123us/step - loss: 0.0896\n",
      "Epoch 36/100\n",
      "10000/10000 [==============================] - 1s 124us/step - loss: 0.0890\n",
      "Epoch 37/100\n",
      "10000/10000 [==============================] - 1s 119us/step - loss: 0.0884\n",
      "Epoch 38/100\n",
      "10000/10000 [==============================] - 1s 116us/step - loss: 0.0879\n",
      "Epoch 39/100\n",
      "10000/10000 [==============================] - 1s 118us/step - loss: 0.0874\n",
      "Epoch 40/100\n",
      "10000/10000 [==============================] - 1s 128us/step - loss: 0.0869\n",
      "Epoch 41/100\n",
      "10000/10000 [==============================] - 1s 125us/step - loss: 0.0864\n",
      "Epoch 42/100\n",
      "10000/10000 [==============================] - 2s 158us/step - loss: 0.0860\n",
      "Epoch 43/100\n",
      "10000/10000 [==============================] - 2s 160us/step - loss: 0.0856\n",
      "Epoch 44/100\n",
      "10000/10000 [==============================] - 1s 144us/step - loss: 0.0852\n",
      "Epoch 45/100\n",
      "10000/10000 [==============================] - 2s 152us/step - loss: 0.0848\n",
      "Epoch 46/100\n",
      "10000/10000 [==============================] - 1s 150us/step - loss: 0.0844\n",
      "Epoch 47/100\n",
      "10000/10000 [==============================] - 1s 144us/step - loss: 0.0841\n",
      "Epoch 48/100\n",
      "10000/10000 [==============================] - 1s 146us/step - loss: 0.0838\n",
      "Epoch 49/100\n",
      "10000/10000 [==============================] - 1s 145us/step - loss: 0.0834\n",
      "Epoch 50/100\n",
      "10000/10000 [==============================] - 2s 167us/step - loss: 0.0831\n",
      "Epoch 51/100\n",
      "10000/10000 [==============================] - 2s 157us/step - loss: 0.0828\n",
      "Epoch 52/100\n",
      "10000/10000 [==============================] - 1s 147us/step - loss: 0.0825\n",
      "Epoch 53/100\n",
      "10000/10000 [==============================] - 1s 148us/step - loss: 0.0823\n",
      "Epoch 54/100\n",
      "10000/10000 [==============================] - 2s 152us/step - loss: 0.0820\n",
      "Epoch 55/100\n",
      "10000/10000 [==============================] - 1s 138us/step - loss: 0.0817\n",
      "Epoch 56/100\n",
      "10000/10000 [==============================] - 1s 122us/step - loss: 0.0815\n",
      "Epoch 57/100\n",
      "10000/10000 [==============================] - 1s 119us/step - loss: 0.0813\n",
      "Epoch 58/100\n",
      "10000/10000 [==============================] - 1s 122us/step - loss: 0.0810\n",
      "Epoch 59/100\n",
      "10000/10000 [==============================] - 1s 122us/step - loss: 0.0808\n",
      "Epoch 60/100\n",
      "10000/10000 [==============================] - 1s 117us/step - loss: 0.0806\n",
      "Epoch 61/100\n",
      "10000/10000 [==============================] - 1s 122us/step - loss: 0.0804\n",
      "Epoch 62/100\n",
      "10000/10000 [==============================] - 1s 117us/step - loss: 0.0802\n",
      "Epoch 63/100\n",
      "10000/10000 [==============================] - 1s 117us/step - loss: 0.0800\n",
      "Epoch 64/100\n",
      "10000/10000 [==============================] - 1s 118us/step - loss: 0.0798\n",
      "Epoch 65/100\n",
      "10000/10000 [==============================] - 1s 119us/step - loss: 0.0796\n",
      "Epoch 66/100\n",
      "10000/10000 [==============================] - 1s 117us/step - loss: 0.0794\n",
      "Epoch 67/100\n",
      "10000/10000 [==============================] - 1s 117us/step - loss: 0.0793\n",
      "Epoch 68/100\n",
      "10000/10000 [==============================] - 1s 121us/step - loss: 0.0791\n",
      "Epoch 69/100\n",
      "10000/10000 [==============================] - 1s 141us/step - loss: 0.0789\n",
      "Epoch 70/100\n",
      "10000/10000 [==============================] - 1s 124us/step - loss: 0.0788\n",
      "Epoch 71/100\n",
      "10000/10000 [==============================] - 1s 125us/step - loss: 0.0786\n",
      "Epoch 72/100\n",
      "10000/10000 [==============================] - 1s 117us/step - loss: 0.0784\n",
      "Epoch 73/100\n",
      "10000/10000 [==============================] - 1s 118us/step - loss: 0.0783\n",
      "Epoch 74/100\n",
      "10000/10000 [==============================] - 2s 153us/step - loss: 0.0781\n",
      "Epoch 75/100\n",
      "10000/10000 [==============================] - 1s 140us/step - loss: 0.0780\n",
      "Epoch 76/100\n",
      "10000/10000 [==============================] - 1s 140us/step - loss: 0.0779\n",
      "Epoch 77/100\n",
      "10000/10000 [==============================] - 1s 138us/step - loss: 0.0777\n",
      "Epoch 78/100\n",
      "10000/10000 [==============================] - 1s 138us/step - loss: 0.0776\n",
      "Epoch 79/100\n",
      "10000/10000 [==============================] - 1s 138us/step - loss: 0.0774\n",
      "Epoch 80/100\n",
      "10000/10000 [==============================] - 1s 137us/step - loss: 0.0773\n",
      "Epoch 81/100\n",
      "10000/10000 [==============================] - 1s 140us/step - loss: 0.0772\n",
      "Epoch 82/100\n",
      "10000/10000 [==============================] - 1s 138us/step - loss: 0.0771\n",
      "Epoch 83/100\n",
      "10000/10000 [==============================] - 1s 138us/step - loss: 0.0769\n",
      "Epoch 84/100\n",
      "10000/10000 [==============================] - 1s 150us/step - loss: 0.0768\n",
      "Epoch 85/100\n",
      "10000/10000 [==============================] - 1s 138us/step - loss: 0.0767\n",
      "Epoch 86/100\n",
      "10000/10000 [==============================] - 1s 138us/step - loss: 0.0766\n",
      "Epoch 87/100\n",
      "10000/10000 [==============================] - 1s 140us/step - loss: 0.0765\n",
      "Epoch 88/100\n",
      "10000/10000 [==============================] - 1s 138us/step - loss: 0.0764\n",
      "Epoch 89/100\n",
      "10000/10000 [==============================] - 1s 138us/step - loss: 0.0763\n",
      "Epoch 90/100\n"
     ]
    },
    {
     "name": "stdout",
     "output_type": "stream",
     "text": [
      "10000/10000 [==============================] - 1s 127us/step - loss: 0.0761\n",
      "Epoch 91/100\n",
      "10000/10000 [==============================] - 1s 132us/step - loss: 0.0760\n",
      "Epoch 92/100\n",
      "10000/10000 [==============================] - 1s 129us/step - loss: 0.0759\n",
      "Epoch 93/100\n",
      "10000/10000 [==============================] - 1s 127us/step - loss: 0.0758\n",
      "Epoch 94/100\n",
      "10000/10000 [==============================] - 1s 130us/step - loss: 0.0757\n",
      "Epoch 95/100\n",
      "10000/10000 [==============================] - 1s 128us/step - loss: 0.0756\n",
      "Epoch 96/100\n",
      "10000/10000 [==============================] - 1s 130us/step - loss: 0.0755\n",
      "Epoch 97/100\n",
      "10000/10000 [==============================] - 1s 127us/step - loss: 0.0754\n",
      "Epoch 98/100\n",
      "10000/10000 [==============================] - 1s 126us/step - loss: 0.0754\n",
      "Epoch 99/100\n",
      "10000/10000 [==============================] - 1s 125us/step - loss: 0.0753\n",
      "Epoch 100/100\n",
      "10000/10000 [==============================] - 1s 128us/step - loss: 0.0752\n"
     ]
    },
    {
     "data": {
      "text/plain": [
       "<keras.callbacks.History at 0x7f5e9d2f0860>"
      ]
     },
     "execution_count": 7,
     "metadata": {},
     "output_type": "execute_result"
    }
   ],
   "source": [
    "autoencoder.fit(images, images, epochs=100)"
   ]
  },
  {
   "cell_type": "markdown",
   "metadata": {},
   "source": [
    "Calculate and store the output of the encoding stage for the first 5 samples."
   ]
  },
  {
   "cell_type": "code",
   "execution_count": 10,
   "metadata": {},
   "outputs": [],
   "source": [
    "encoder_output = Model(input_stage, encoding_stage).predict(images[:5])"
   ]
  },
  {
   "cell_type": "markdown",
   "metadata": {},
   "source": [
    "Reshape the encoder output to 10 x 10 (10 x 10 = 100) pixels and multiply by 255"
   ]
  },
  {
   "cell_type": "code",
   "execution_count": 11,
   "metadata": {},
   "outputs": [],
   "source": [
    "encoder_output = encoder_output.reshape((-1, 10, 10)) * 255"
   ]
  },
  {
   "cell_type": "markdown",
   "metadata": {},
   "source": [
    "Calculate and store the output of the decoding stage for the first 5 samples"
   ]
  },
  {
   "cell_type": "code",
   "execution_count": 12,
   "metadata": {},
   "outputs": [],
   "source": [
    "decoder_output = autoencoder.predict(images[:5])"
   ]
  },
  {
   "cell_type": "markdown",
   "metadata": {},
   "source": [
    "Reshape the output of the decoder to 28 x 28 and multiply by 255"
   ]
  },
  {
   "cell_type": "code",
   "execution_count": 15,
   "metadata": {},
   "outputs": [],
   "source": [
    "decoder_output = decoder_output.reshape((-1, 28, 28)) * 255"
   ]
  },
  {
   "cell_type": "markdown",
   "metadata": {},
   "source": [
    "Plot the original image, the encoder output and the decoder."
   ]
  },
  {
   "cell_type": "code",
   "execution_count": 17,
   "metadata": {},
   "outputs": [
    {
     "data": {
      "image/png": "[encoded data removed]",
      "text/plain": [
       "<Figure size 720x504 with 15 Axes>"
      ]
     },
     "metadata": {
      "needs_background": "light"
     },
     "output_type": "display_data"
    }
   ],
   "source": [
    "images = images.reshape((-1, 28, 28))\n",
    "plt.figure(figsize=(10, 7))\n",
    "for i in range(5):\n",
    "    plt.subplot(3, 5, i + 1)\n",
    "    plt.imshow(images[i], cmap='gray')\n",
    "    plt.axis('off')\n",
    "    \n",
    "    plt.subplot(3, 5, i + 6)\n",
    "    plt.imshow(encoder_output[i], cmap='gray')\n",
    "    plt.axis('off')   \n",
    "    \n",
    "    plt.subplot(3, 5, i + 11)\n",
    "    plt.imshow(decoder_output[i], cmap='gray')\n",
    "    plt.axis('off')        "
   ]
  }
 ],
 "metadata": {
  "kernelspec": {
   "display_name": "Python 3",
   "language": "python",
   "name": "python3"
  },
  "language_info": {
   "codemirror_mode": {
    "name": "ipython",
    "version": 3
   },
   "file_extension": ".py",
   "mimetype": "text/x-python",
   "name": "python",
   "nbconvert_exporter": "python",
   "pygments_lexer": "ipython3",
   "version": "3.7.1"
  }
 },
 "nbformat": 4,
 "nbformat_minor": 2
}
