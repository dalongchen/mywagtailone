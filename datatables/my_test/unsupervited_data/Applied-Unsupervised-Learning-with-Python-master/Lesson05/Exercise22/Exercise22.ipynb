{
 "cells": [
  {
   "cell_type": "markdown",
   "metadata": {},
   "source": [
    "# Exercise 5 - Multi Layer Autoencoder\n",
    "\n",
    "In this exercise we will construct a multi-layer autoencoder for the sample of the CIFAR-10 dataset, compressing the information stored within the images for later use.\n",
    "\n",
    "Import pickle, numpy, matplotlib as well as the *Model* class from **keras.models** and *Input* and *Dense* from **keras.layers**."
   ]
  },
  {
   "cell_type": "code",
   "execution_count": 1,
   "metadata": {},
   "outputs": [
    {
     "name": "stderr",
     "output_type": "stream",
     "text": [
      "Using TensorFlow backend.\n"
     ]
    }
   ],
   "source": [
    "import pickle\n",
    "import numpy as np\n",
    "import matplotlib.pyplot as plt\n",
    "from keras.models import Model\n",
    "from keras.layers import Input, Dense"
   ]
  },
  {
   "cell_type": "markdown",
   "metadata": {},
   "source": [
    "Load the data"
   ]
  },
  {
   "cell_type": "code",
   "execution_count": 2,
   "metadata": {},
   "outputs": [],
   "source": [
    "with open('data_batch_1', 'rb') as f:\n",
    "    dat = pickle.load(f, encoding='bytes')"
   ]
  },
  {
   "cell_type": "markdown",
   "metadata": {},
   "source": [
    "As this is an unsupervised learning method, we are only interested in the image data.  Load the image data as per the previous exercise."
   ]
  },
  {
   "cell_type": "code",
   "execution_count": 3,
   "metadata": {},
   "outputs": [],
   "source": [
    "images = np.zeros((10000, 32, 32, 3), dtype='uint8')\n",
    "\n",
    "for idx, img in enumerate(dat[b'data']):\n",
    "    images[idx, :, :, 0] = img[:1024].reshape((32, 32)) # Red\n",
    "    images[idx, :, :, 1] = img[1024:2048].reshape((32, 32)) # Green\n",
    "    images[idx, :, :, 2] = img[2048:].reshape((32, 32)) # Blue"
   ]
  },
  {
   "cell_type": "markdown",
   "metadata": {},
   "source": [
    "Convert the image to grayscale, scale between 0 and 1 and flatten each to a single 1024 length vector."
   ]
  },
  {
   "cell_type": "code",
   "execution_count": 4,
   "metadata": {},
   "outputs": [
    {
     "data": {
      "text/plain": [
       "array([[0.24052288, 0.1751634 , 0.18431373, ..., 0.70588235, 0.46143791,\n",
       "        0.3751634 ],\n",
       "       [0.67712418, 0.52156863, 0.39738562, ..., 0.54248366, 0.54771242,\n",
       "        0.54901961],\n",
       "       [1.        , 0.99215686, 0.99215686, ..., 0.32156863, 0.32287582,\n",
       "        0.32679739],\n",
       "       ...,\n",
       "       [0.25098039, 0.21437908, 0.27843137, ..., 0.28888889, 0.29673203,\n",
       "        0.29934641],\n",
       "       [0.99346405, 0.99477124, 0.85620915, ..., 0.8379085 , 1.        ,\n",
       "        0.99738562],\n",
       "       [0.1620915 , 0.16078431, 0.15816993, ..., 0.64705882, 0.64705882,\n",
       "        0.64836601]])"
      ]
     },
     "execution_count": 4,
     "metadata": {},
     "output_type": "execute_result"
    }
   ],
   "source": [
    "images = images.mean(axis=-1)\n",
    "images = images / 255.0\n",
    "images = images.reshape((-1, 32 ** 2))\n",
    "images"
   ]
  },
  {
   "cell_type": "markdown",
   "metadata": {},
   "source": [
    "Define the multi-layer autoencoder model.  We will use the same shape input as the simple autoencoder model."
   ]
  },
  {
   "cell_type": "code",
   "execution_count": 5,
   "metadata": {},
   "outputs": [],
   "source": [
    "input_layer = Input(shape=(1024,))"
   ]
  },
  {
   "cell_type": "markdown",
   "metadata": {},
   "source": [
    "We will add another layer before the 256 autoencoder stage, this time with 512 neurons."
   ]
  },
  {
   "cell_type": "code",
   "execution_count": 6,
   "metadata": {},
   "outputs": [
    {
     "name": "stdout",
     "output_type": "stream",
     "text": [
      "WARNING:tensorflow:From /home/ben/envs/packt/lib/python3.7/site-packages/tensorflow/python/framework/op_def_library.py:263: colocate_with (from tensorflow.python.framework.ops) is deprecated and will be removed in a future version.\n",
      "Instructions for updating:\n",
      "Colocations handled automatically by placer.\n"
     ]
    }
   ],
   "source": [
    "hidden_encoding = Dense(512, activation='relu')(input_layer)"
   ]
  },
  {
   "cell_type": "markdown",
   "metadata": {},
   "source": [
    "Using the same size autoencoder as the previous exercise, but this time the input to the layer is now the hidden_encoding layer."
   ]
  },
  {
   "cell_type": "code",
   "execution_count": 7,
   "metadata": {},
   "outputs": [],
   "source": [
    "encoding_stage = Dense(256, activation='relu')(hidden_encoding)"
   ]
  },
  {
   "cell_type": "markdown",
   "metadata": {},
   "source": [
    "Add a decoding hidden layer"
   ]
  },
  {
   "cell_type": "code",
   "execution_count": 8,
   "metadata": {},
   "outputs": [],
   "source": [
    "hidden_decoding = Dense(512, activation='relu')(encoding_stage)"
   ]
  },
  {
   "cell_type": "markdown",
   "metadata": {},
   "source": [
    "Use the same output stage as in the previous exercise, this time connected to the hidden decoding stage."
   ]
  },
  {
   "cell_type": "code",
   "execution_count": 9,
   "metadata": {},
   "outputs": [],
   "source": [
    "decoding_stage = Dense(1024, activation='sigmoid')(hidden_decoding)"
   ]
  },
  {
   "cell_type": "markdown",
   "metadata": {},
   "source": [
    "Construct the model by passing the first and last layers of the network to the Model class."
   ]
  },
  {
   "cell_type": "code",
   "execution_count": 10,
   "metadata": {},
   "outputs": [],
   "source": [
    "autoencoder = `Model(input_layer, decoding_stage)"
   ]
  },
  {
   "cell_type": "markdown",
   "metadata": {},
   "source": [
    "Compile the autoencoder using a binary cross entropy loss function and adadelta gradient descent."
   ]
  },
  {
   "cell_type": "code",
   "execution_count": 11,
   "metadata": {},
   "outputs": [],
   "source": [
    "autoencoder.compile(loss='binary_crossentropy',\n",
    "              optimizer='adadelta')"
   ]
  },
  {
   "cell_type": "markdown",
   "metadata": {},
   "source": [
    "Now let's fit the model, again we pass the images as the training data and as the desired output.  Train for 100 epochs."
   ]
  },
  {
   "cell_type": "code",
   "execution_count": 12,
   "metadata": {},
   "outputs": [
    {
     "name": "stdout",
     "output_type": "stream",
     "text": [
      "WARNING:tensorflow:From /home/ben/envs/packt/lib/python3.7/site-packages/tensorflow/python/ops/math_ops.py:3066: to_int32 (from tensorflow.python.ops.math_ops) is deprecated and will be removed in a future version.\n",
      "Instructions for updating:\n",
      "Use tf.cast instead.\n",
      "Epoch 1/100\n",
      "10000/10000 [==============================] - 11s 1ms/step - loss: 0.6851\n",
      "Epoch 2/100\n",
      "10000/10000 [==============================] - 11s 1ms/step - loss: 0.6608\n",
      "Epoch 3/100\n",
      "10000/10000 [==============================] - 11s 1ms/step - loss: 0.6480\n",
      "Epoch 4/100\n",
      "10000/10000 [==============================] - 11s 1ms/step - loss: 0.6380\n",
      "Epoch 5/100\n",
      "10000/10000 [==============================] - 10s 1ms/step - loss: 0.6298\n",
      "Epoch 6/100\n",
      "10000/10000 [==============================] - 11s 1ms/step - loss: 0.6238\n",
      "Epoch 7/100\n",
      "10000/10000 [==============================] - 10s 1ms/step - loss: 0.6196\n",
      "Epoch 8/100\n",
      "10000/10000 [==============================] - 10s 1ms/step - loss: 0.6155\n",
      "Epoch 9/100\n",
      "10000/10000 [==============================] - 10s 1ms/step - loss: 0.6130\n",
      "Epoch 10/100\n",
      "10000/10000 [==============================] - 10s 1ms/step - loss: 0.6100\n",
      "Epoch 11/100\n",
      "10000/10000 [==============================] - 10s 1ms/step - loss: 0.6079\n",
      "Epoch 12/100\n",
      "10000/10000 [==============================] - 12s 1ms/step - loss: 0.6061\n",
      "Epoch 13/100\n",
      "10000/10000 [==============================] - 11s 1ms/step - loss: 0.6044\n",
      "Epoch 14/100\n",
      "10000/10000 [==============================] - 10s 967us/step - loss: 0.6033\n",
      "Epoch 15/100\n",
      "10000/10000 [==============================] - 10s 1ms/step - loss: 0.6016\n",
      "Epoch 16/100\n",
      "10000/10000 [==============================] - 10s 1ms/step - loss: 0.6005\n",
      "Epoch 17/100\n",
      "10000/10000 [==============================] - 11s 1ms/step - loss: 0.5996\n",
      "Epoch 18/100\n",
      "10000/10000 [==============================] - 10s 1ms/step - loss: 0.5984\n",
      "Epoch 19/100\n",
      "10000/10000 [==============================] - 10s 1ms/step - loss: 0.5978\n",
      "Epoch 20/100\n",
      "10000/10000 [==============================] - 10s 989us/step - loss: 0.5972\n",
      "Epoch 21/100\n",
      "10000/10000 [==============================] - 10s 1ms/step - loss: 0.5957\n",
      "Epoch 22/100\n",
      "10000/10000 [==============================] - 10s 1ms/step - loss: 0.5955\n",
      "Epoch 23/100\n",
      "10000/10000 [==============================] - 10s 1ms/step - loss: 0.5947\n",
      "Epoch 24/100\n",
      "10000/10000 [==============================] - 10s 1ms/step - loss: 0.5942\n",
      "Epoch 25/100\n",
      "10000/10000 [==============================] - 10s 1ms/step - loss: 0.5933\n",
      "Epoch 26/100\n",
      "10000/10000 [==============================] - 11s 1ms/step - loss: 0.5930\n",
      "Epoch 27/100\n",
      "10000/10000 [==============================] - 11s 1ms/step - loss: 0.5926\n",
      "Epoch 28/100\n",
      "10000/10000 [==============================] - 11s 1ms/step - loss: 0.5920\n",
      "Epoch 29/100\n",
      "10000/10000 [==============================] - 11s 1ms/step - loss: 0.5914\n",
      "Epoch 30/100\n",
      "10000/10000 [==============================] - 11s 1ms/step - loss: 0.5912\n",
      "Epoch 31/100\n",
      "10000/10000 [==============================] - 9s 891us/step - loss: 0.5909\n",
      "Epoch 32/100\n",
      "10000/10000 [==============================] - 9s 871us/step - loss: 0.5905\n",
      "Epoch 33/100\n",
      "10000/10000 [==============================] - 9s 854us/step - loss: 0.5899\n",
      "Epoch 34/100\n",
      "10000/10000 [==============================] - 9s 870us/step - loss: 0.5900\n",
      "Epoch 35/100\n",
      "10000/10000 [==============================] - 9s 876us/step - loss: 0.5894\n",
      "Epoch 36/100\n",
      "10000/10000 [==============================] - 9s 892us/step - loss: 0.5894\n",
      "Epoch 37/100\n",
      "10000/10000 [==============================] - 9s 888us/step - loss: 0.5889\n",
      "Epoch 38/100\n",
      "10000/10000 [==============================] - 9s 879us/step - loss: 0.5887\n",
      "Epoch 39/100\n",
      "10000/10000 [==============================] - 9s 882us/step - loss: 0.5884\n",
      "Epoch 40/100\n",
      "10000/10000 [==============================] - 9s 890us/step - loss: 0.5882\n",
      "Epoch 41/100\n",
      "10000/10000 [==============================] - 9s 868us/step - loss: 0.5880\n",
      "Epoch 42/100\n",
      "10000/10000 [==============================] - 9s 864us/step - loss: 0.5878\n",
      "Epoch 43/100\n",
      "10000/10000 [==============================] - 8s 849us/step - loss: 0.5874\n",
      "Epoch 44/100\n",
      "10000/10000 [==============================] - 9s 880us/step - loss: 0.5872\n",
      "Epoch 45/100\n",
      "10000/10000 [==============================] - 9s 890us/step - loss: 0.5870\n",
      "Epoch 46/100\n",
      "10000/10000 [==============================] - 9s 938us/step - loss: 0.5869\n",
      "Epoch 47/100\n",
      "10000/10000 [==============================] - 9s 948us/step - loss: 0.5867\n",
      "Epoch 48/100\n",
      "10000/10000 [==============================] - 10s 1ms/step - loss: 0.5864\n",
      "Epoch 49/100\n",
      "10000/10000 [==============================] - 10s 1ms/step - loss: 0.5862\n",
      "Epoch 50/100\n",
      "10000/10000 [==============================] - 11s 1ms/step - loss: 0.5861\n",
      "Epoch 51/100\n",
      "10000/10000 [==============================] - 10s 1ms/step - loss: 0.5859\n",
      "Epoch 52/100\n",
      "10000/10000 [==============================] - 10s 980us/step - loss: 0.5856\n",
      "Epoch 53/100\n",
      "10000/10000 [==============================] - 10s 1ms/step - loss: 0.5855\n",
      "Epoch 54/100\n",
      "10000/10000 [==============================] - 10s 1ms/step - loss: 0.5856\n",
      "Epoch 55/100\n",
      "10000/10000 [==============================] - 11s 1ms/step - loss: 0.5849\n",
      "Epoch 56/100\n",
      "10000/10000 [==============================] - 10s 1ms/step - loss: 0.5850\n",
      "Epoch 57/100\n",
      "10000/10000 [==============================] - 10s 1ms/step - loss: 0.5848\n",
      "Epoch 58/100\n",
      "10000/10000 [==============================] - 10s 992us/step - loss: 0.5847\n",
      "Epoch 59/100\n",
      "10000/10000 [==============================] - 10s 1ms/step - loss: 0.5845\n",
      "Epoch 60/100\n",
      "10000/10000 [==============================] - 10s 1ms/step - loss: 0.5844\n",
      "Epoch 61/100\n",
      "10000/10000 [==============================] - 10s 1ms/step - loss: 0.5843\n",
      "Epoch 62/100\n",
      "10000/10000 [==============================] - 10s 1ms/step - loss: 0.5838\n",
      "Epoch 63/100\n",
      "10000/10000 [==============================] - 10s 1ms/step - loss: 0.5839\n",
      "Epoch 64/100\n",
      "10000/10000 [==============================] - 10s 1ms/step - loss: 0.5837\n",
      "Epoch 65/100\n",
      "10000/10000 [==============================] - 10s 1ms/step - loss: 0.5835\n",
      "Epoch 66/100\n",
      "10000/10000 [==============================] - 11s 1ms/step - loss: 0.5835\n",
      "Epoch 67/100\n",
      "10000/10000 [==============================] - 11s 1ms/step - loss: 0.5835\n",
      "Epoch 68/100\n",
      "10000/10000 [==============================] - 11s 1ms/step - loss: 0.5833\n",
      "Epoch 69/100\n",
      "10000/10000 [==============================] - 11s 1ms/step - loss: 0.5831\n",
      "Epoch 70/100\n",
      "10000/10000 [==============================] - 10s 1ms/step - loss: 0.5831\n",
      "Epoch 71/100\n",
      "10000/10000 [==============================] - 11s 1ms/step - loss: 0.5829\n",
      "Epoch 72/100\n",
      "10000/10000 [==============================] - 10s 1ms/step - loss: 0.5827\n",
      "Epoch 73/100\n",
      "10000/10000 [==============================] - 11s 1ms/step - loss: 0.5826\n",
      "Epoch 74/100\n",
      "10000/10000 [==============================] - 10s 1ms/step - loss: 0.5826\n",
      "Epoch 75/100\n",
      "10000/10000 [==============================] - 10s 968us/step - loss: 0.5824\n",
      "Epoch 76/100\n",
      "10000/10000 [==============================] - 11s 1ms/step - loss: 0.5822\n",
      "Epoch 77/100\n",
      "10000/10000 [==============================] - 10s 1ms/step - loss: 0.5821\n",
      "Epoch 78/100\n",
      "10000/10000 [==============================] - 11s 1ms/step - loss: 0.5822\n",
      "Epoch 79/100\n",
      "10000/10000 [==============================] - 11s 1ms/step - loss: 0.5819\n",
      "Epoch 80/100\n",
      "10000/10000 [==============================] - 10s 1ms/step - loss: 0.5820\n",
      "Epoch 81/100\n",
      "10000/10000 [==============================] - 10s 1ms/step - loss: 0.5819\n",
      "Epoch 82/100\n",
      "10000/10000 [==============================] - 10s 1ms/step - loss: 0.5816\n",
      "Epoch 83/100\n",
      "10000/10000 [==============================] - 10s 1ms/step - loss: 0.5816\n",
      "Epoch 84/100\n",
      "10000/10000 [==============================] - 10s 1ms/step - loss: 0.5815\n",
      "Epoch 85/100\n",
      "10000/10000 [==============================] - 10s 1ms/step - loss: 0.5814\n",
      "Epoch 86/100\n",
      "10000/10000 [==============================] - 11s 1ms/step - loss: 0.5814\n",
      "Epoch 87/100\n",
      "10000/10000 [==============================] - 10s 966us/step - loss: 0.5811\n",
      "Epoch 88/100\n",
      "10000/10000 [==============================] - 10s 1ms/step - loss: 0.5810\n",
      "Epoch 89/100\n",
      "10000/10000 [==============================] - 10s 1ms/step - loss: 0.5811\n",
      "Epoch 90/100\n"
     ]
    },
    {
     "name": "stdout",
     "output_type": "stream",
     "text": [
      "10000/10000 [==============================] - 10s 960us/step - loss: 0.5809\n",
      "Epoch 91/100\n",
      "10000/10000 [==============================] - 11s 1ms/step - loss: 0.5809\n",
      "Epoch 92/100\n",
      "10000/10000 [==============================] - 10s 1ms/step - loss: 0.5807\n",
      "Epoch 93/100\n",
      "10000/10000 [==============================] - 9s 945us/step - loss: 0.5805\n",
      "Epoch 94/100\n",
      "10000/10000 [==============================] - 10s 965us/step - loss: 0.5806\n",
      "Epoch 95/100\n",
      "10000/10000 [==============================] - 10s 969us/step - loss: 0.5807\n",
      "Epoch 96/100\n",
      "10000/10000 [==============================] - 10s 968us/step - loss: 0.5804\n",
      "Epoch 97/100\n",
      "10000/10000 [==============================] - 10s 1ms/step - loss: 0.5803\n",
      "Epoch 98/100\n",
      "10000/10000 [==============================] - 10s 971us/step - loss: 0.5804\n",
      "Epoch 99/100\n",
      "10000/10000 [==============================] - 10s 970us/step - loss: 0.5802\n",
      "Epoch 100/100\n",
      "10000/10000 [==============================] - 10s 972us/step - loss: 0.5799\n"
     ]
    },
    {
     "data": {
      "text/plain": [
       "<keras.callbacks.History at 0x7f142c12dc18>"
      ]
     },
     "execution_count": 12,
     "metadata": {},
     "output_type": "execute_result"
    }
   ],
   "source": [
    "autoencoder.fit(images, images, epochs=100)"
   ]
  },
  {
   "cell_type": "markdown",
   "metadata": {},
   "source": [
    "Calculate and store the output of the encoding stage for the first 5 samples."
   ]
  },
  {
   "cell_type": "code",
   "execution_count": 13,
   "metadata": {},
   "outputs": [],
   "source": [
    "encoder_output = Model(input_layer, encoding_stage).predict(images[:5])"
   ]
  },
  {
   "cell_type": "markdown",
   "metadata": {},
   "source": [
    "Reshape the encoder output to 16 x 16 (16 x 16 = 256) pixels and multiply by 255"
   ]
  },
  {
   "cell_type": "code",
   "execution_count": 14,
   "metadata": {},
   "outputs": [],
   "source": [
    "encoder_output = encoder_output.reshape((-1, 16, 16)) * 255"
   ]
  },
  {
   "cell_type": "markdown",
   "metadata": {},
   "source": [
    "Calculate and store the output of the decoding stage for the first 5 samples"
   ]
  },
  {
   "cell_type": "code",
   "execution_count": 15,
   "metadata": {},
   "outputs": [],
   "source": [
    "decoder_output = autoencoder.predict(images[:5])"
   ]
  },
  {
   "cell_type": "markdown",
   "metadata": {},
   "source": [
    "Reshape the output of the decoder to 32 x 32 and multiply by 255"
   ]
  },
  {
   "cell_type": "code",
   "execution_count": 16,
   "metadata": {},
   "outputs": [],
   "source": [
    "decoder_output = decoder_output.reshape((-1, 32,32)) * 255"
   ]
  },
  {
   "cell_type": "markdown",
   "metadata": {},
   "source": [
    "Plot the original image, the encoder output and the decoder."
   ]
  },
  {
   "cell_type": "code",
   "execution_count": 17,
   "metadata": {},
   "outputs": [],
   "source": [
    "images = images.reshape((-1, 32, 32))"
   ]
  },
  {
   "cell_type": "code",
   "execution_count": 18,
   "metadata": {},
   "outputs": [
    {
     "data": {
      "image/png": "[encoded data removed]",
      "text/plain": [
       "<Figure size 720x504 with 15 Axes>"
      ]
     },
     "metadata": {
      "needs_background": "light"
     },
     "output_type": "display_data"
    }
   ],
   "source": [
    "plt.figure(figsize=(10, 7))\n",
    "for i in range(5):\n",
    "    plt.subplot(3, 5, i + 1)\n",
    "    plt.imshow(images[i], cmap='gray')\n",
    "    plt.axis('off')\n",
    "    \n",
    "    plt.subplot(3, 5, i + 6)\n",
    "    plt.imshow(encoder_output[i], cmap='gray')\n",
    "    plt.axis('off')   \n",
    "    \n",
    "    plt.subplot(3, 5, i + 11)\n",
    "    plt.imshow(decoder_output[i], cmap='gray')\n",
    "    plt.axis('off')        "
   ]
  }
 ],
 "metadata": {
  "kernelspec": {
   "display_name": "Python 3",
   "language": "python",
   "name": "python3"
  },
  "language_info": {
   "codemirror_mode": {
    "name": "ipython",
    "version": 3
   },
   "file_extension": ".py",
   "mimetype": "text/x-python",
   "name": "python",
   "nbconvert_exporter": "python",
   "pygments_lexer": "ipython3",
   "version": "3.7.1"
  }
 },
 "nbformat": 4,
 "nbformat_minor": 2
}
